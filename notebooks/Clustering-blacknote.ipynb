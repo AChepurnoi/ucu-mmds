{
 "cells": [
  {
   "cell_type": "code",
   "execution_count": 17,
   "metadata": {},
   "outputs": [],
   "source": [
    "from functools import reduce\n",
    "import re"
   ]
  },
  {
   "cell_type": "code",
   "execution_count": 210,
   "metadata": {},
   "outputs": [
    {
     "name": "stdout",
     "output_type": "stream",
     "text": [
      "Collecting mwparserfromhell\n",
      "\u001b[?25l  Downloading https://files.pythonhosted.org/packages/23/03/4fb04da533c7e237c0104151c028d8bff856293d34e51d208c529696fb79/mwparserfromhell-0.5.4.tar.gz (135kB)\n",
      "\u001b[K     |████████████████████████████████| 143kB 1.0MB/s eta 0:00:01\n",
      "\u001b[?25hBuilding wheels for collected packages: mwparserfromhell\n",
      "  Building wheel for mwparserfromhell (setup.py) ... \u001b[?25ldone\n",
      "\u001b[?25h  Stored in directory: /Users/vaden4d/Library/Caches/pip/wheels/2a/76/d5/7088b941df3b362c45dd7912dd05314bc034751ec9cbca9a75\n",
      "Successfully built mwparserfromhell\n",
      "Installing collected packages: mwparserfromhell\n",
      "Successfully installed mwparserfromhell-0.5.4\n"
     ]
    }
   ],
   "source": [
    "# wikitext parser installing\n",
    "\n",
    "!pip install mwparserfromhell"
   ]
  },
  {
   "cell_type": "code",
   "execution_count": 1,
   "metadata": {},
   "outputs": [],
   "source": [
    "import matplotlib.pyplot as plt\n",
    "%matplotlib inline"
   ]
  },
  {
   "cell_type": "code",
   "execution_count": 2,
   "metadata": {},
   "outputs": [],
   "source": [
    "PATH_TO_SPARK = '../../spark/spark-2.4.3-bin-hadoop2.7'"
   ]
  },
  {
   "cell_type": "code",
   "execution_count": 3,
   "metadata": {},
   "outputs": [],
   "source": [
    "import findspark\n",
    "findspark.init(PATH_TO_SPARK)\n",
    "from pyspark.sql import SparkSession\n",
    "import pyspark\n",
    "spark = SparkSession.builder.getOrCreate()"
   ]
  },
  {
   "cell_type": "code",
   "execution_count": 131,
   "metadata": {},
   "outputs": [],
   "source": [
    "from pyspark.sql import *\n",
    "from pyspark.sql.functions import col, lower, regexp_replace, split, size, UserDefinedFunction\n",
    "from pyspark.sql.types import StringType, IntegerType\n",
    "\n",
    "from pyspark.ml.feature import VectorAssembler"
   ]
  },
  {
   "cell_type": "code",
   "execution_count": 5,
   "metadata": {},
   "outputs": [],
   "source": [
    "import numpy as np\n",
    "import pandas as pd"
   ]
  },
  {
   "cell_type": "markdown",
   "metadata": {},
   "source": [
    "## Data preprocessing"
   ]
  },
  {
   "cell_type": "code",
   "execution_count": 6,
   "metadata": {},
   "outputs": [],
   "source": [
    "# df_path = \"../csv_data/top-10-sample-output.csv\"\n",
    "df_path = \"../csv_data/sample-output.csv\"\n",
    "df = spark.read.csv(df_path, inferSchema=True, header=True, multiLine=True, escape='\"')\n",
    "#pdf = pd.read_csv(df_path, index_col=0)"
   ]
  },
  {
   "cell_type": "code",
   "execution_count": 194,
   "metadata": {},
   "outputs": [
    {
     "name": "stdout",
     "output_type": "stream",
     "text": [
      "+---+--------------------+-----------+-----------+---------+--------------------+--------+---+---------+------------+----------+--------------------+--------------------+-------------------+-----------+---------+\n",
      "|_c0|             comment|contributor|     format|       id|                  ip|   model| ns| parentid|restrictions|  revision|                sha1|                text|          timestamp|      title| username|\n",
      "+---+--------------------+-----------+-----------+---------+--------------------+--------+---+---------+------------+----------+--------------------+--------------------+-------------------+-----------+---------+\n",
      "|  0|/* Main character...|           |text/x-wiki|891988700|        100.0.126.88|wikitext|  0|891441652|        null|          |5ib24sew99ceyko33...|{{About|the telev...|2019-04-11 16:19:39|The X-Files|     null|\n",
      "|  1|Reverted edits by...|           |text/x-wiki| 31009372|                null|wikitext|  0|894129318|        null|          |q2nngvea32gwowk9y...|{{mergefrom|Third...|2019-04-25 23:53:46|Third World|XenonNSMB|\n",
      "|  2|/* External links */|           |text/x-wiki|893401367|2601:1C2:1780:A0D...|wikitext|  0|891756569|        null|          |ihx6i3puongpsv8n4...|{{About|the TV se...|2019-04-21 05:46:04| Twin Peaks|     null|\n",
      "+---+--------------------+-----------+-----------+---------+--------------------+--------+---+---------+------------+----------+--------------------+--------------------+-------------------+-----------+---------+\n",
      "only showing top 3 rows\n",
      "\n"
     ]
    }
   ],
   "source": [
    "df.show(3)"
   ]
  },
  {
   "cell_type": "code",
   "execution_count": 7,
   "metadata": {},
   "outputs": [
    {
     "name": "stdout",
     "output_type": "stream",
     "text": [
      "All columns: ['_c0', 'comment', 'contributor', 'format', 'id', 'ip', 'model', 'ns', 'parentid', 'restrictions', 'revision', 'sha1', 'text', 'timestamp', 'title', 'username']\n",
      "Unique values for..\n",
      "\t format : DataFrame[format: string]\n",
      "\t model : DataFrame[model: string]\n",
      "\t ns : DataFrame[ns: int]\n",
      "\t contributor : DataFrame[contributor: string]\n",
      "\t revision : DataFrame[revision: string]\n",
      "\t restrictions : DataFrame[restrictions: string]\n",
      "Useful columns: ['sha1', 'timestamp', 'title', 'text']\n"
     ]
    }
   ],
   "source": [
    "\"\"\"\n",
    "Filtering columns\n",
    "    Useful: sha1 (as identifier),  timestamp, title, text\n",
    "    Questionable: user, comment, ip, id (there are different articles with the same id), parentid, restrictions\n",
    "    Not useful (no unique info): model, format, ns, contributor, revision, restrictions\n",
    "\"\"\" \n",
    "\n",
    "print(\"All columns:\", df.columns)\n",
    "print(\"Unique values for..\")\n",
    "for column in [\"format\", \"model\", \"ns\", \"contributor\", \"revision\", \"restrictions\"]:\n",
    "    print(\"\\t\", column, \":\", df.select(column).distinct())\n",
    "    \n",
    "useful_columns = [\"sha1\", \"timestamp\", \"title\", \"text\"]\n",
    "print(\"Useful columns:\", useful_columns)\n",
    "\n",
    "clean_df = df[useful_columns]\n",
    "#clean_pdf = pdf[useful_columns]"
   ]
  },
  {
   "cell_type": "code",
   "execution_count": 8,
   "metadata": {},
   "outputs": [
    {
     "name": "stdout",
     "output_type": "stream",
     "text": [
      "+--------------------+-------------------+--------------------+--------------------+\n",
      "|                sha1|          timestamp|               title|                text|\n",
      "+--------------------+-------------------+--------------------+--------------------+\n",
      "|5ib24sew99ceyko33...|2019-04-11 16:19:39|         The X-Files|{{About|the telev...|\n",
      "|q2nngvea32gwowk9y...|2019-04-25 23:53:46|         Third World|{{mergefrom|Third...|\n",
      "|ihx6i3puongpsv8n4...|2019-04-21 05:46:04|          Twin Peaks|{{About|the TV se...|\n",
      "|s8aob488ldyo67vob...|2019-04-25 14:51:44|            Thallium|{{distinguish|Thu...|\n",
      "|shlofsuzadp1u74w3...|2019-04-23 09:54:24|         Text editor|{{selfref|For the...|\n",
      "|f1x0xk50c6f0kefod...|2019-04-10 22:04:07|        Tennis court|{{About|the sport...|\n",
      "|9q70kcncd12befu48...|2019-04-15 02:18:54|The Communist Man...|{{refimprove|date...|\n",
      "|4jmuyzuyosip9r35x...|2019-04-14 01:08:59|               Trier|{{short descripti...|\n",
      "|ge2818x0ko9adp8ei...|2019-04-21 13:23:13|                 Ton|{{distinguish|tex...|\n",
      "|1fmym74bdv24cw9oi...|2019-02-24 23:58:25|     Talk (software)|{{Refimprove|date...|\n",
      "+--------------------+-------------------+--------------------+--------------------+\n",
      "only showing top 10 rows\n",
      "\n"
     ]
    }
   ],
   "source": [
    "clean_df.show(10)"
   ]
  },
  {
   "cell_type": "code",
   "execution_count": 197,
   "metadata": {},
   "outputs": [
    {
     "name": "stdout",
     "output_type": "stream",
     "text": [
      "root\n",
      " |-- sha1: string (nullable = true)\n",
      " |-- timestamp: timestamp (nullable = true)\n",
      " |-- title: string (nullable = true)\n",
      " |-- text: string (nullable = true)\n",
      "\n",
      "Size of the DataFrame: 38842 records\n"
     ]
    }
   ],
   "source": [
    "clean_df.printSchema()\n",
    "print(\"Size of the DataFrame: {} records\".format(clean_df.count()))"
   ]
  },
  {
   "cell_type": "markdown",
   "metadata": {},
   "source": [
    "## Feature engineering"
   ]
  },
  {
   "cell_type": "code",
   "execution_count": 256,
   "metadata": {},
   "outputs": [
    {
     "name": "stdout",
     "output_type": "stream",
     "text": [
      "+--------------------+-------------------+--------------------+--------------------+------+------+------+------+------+\n",
      "|                sha1|          timestamp|               title|                text|level2|level3|level4|level5|level6|\n",
      "+--------------------+-------------------+--------------------+--------------------+------+------+------+------+------+\n",
      "|5ib24sew99ceyko33...|2019-04-11 16:19:39|         The X-Files|{{About|the telev...|    34|    26|     5|     0|     0|\n",
      "|q2nngvea32gwowk9y...|2019-04-25 23:53:46|         Third World|{{mergefrom|Third...|    10|     0|     0|     0|     0|\n",
      "|ihx6i3puongpsv8n4...|2019-04-21 05:46:04|          Twin Peaks|{{About|the TV se...|    24|    14|     0|     0|     0|\n",
      "|s8aob488ldyo67vob...|2019-04-25 14:51:44|            Thallium|{{distinguish|Thu...|    18|     8|     1|     0|     0|\n",
      "|shlofsuzadp1u74w3...|2019-04-23 09:54:24|         Text editor|{{selfref|For the...|    10|     0|     0|     0|     0|\n",
      "|f1x0xk50c6f0kefod...|2019-04-10 22:04:07|        Tennis court|{{About|the sport...|    12|     5|     0|     0|     0|\n",
      "|9q70kcncd12befu48...|2019-04-15 02:18:54|The Communist Man...|{{refimprove|date...|    21|    10|     0|     0|     0|\n",
      "|4jmuyzuyosip9r35x...|2019-04-14 01:08:59|               Trier|{{short descripti...|    17|     5|     0|     0|     0|\n",
      "|ge2818x0ko9adp8ei...|2019-04-21 13:23:13|                 Ton|{{distinguish|tex...|     8|     3|     0|     0|     0|\n",
      "|1fmym74bdv24cw9oi...|2019-02-24 23:58:25|     Talk (software)|{{Refimprove|date...|     4|     0|     0|     0|     0|\n",
      "|kctma62z8vp1gihkv...|2019-04-29 18:31:29|         Sex Pistols|{{short descripti...|    21|    13|     0|     0|     0|\n",
      "|i8andwobryq5yklry...|2012-07-13 22:21:19|The rationality o...|#REDIRECT [[Exist...|     0|     0|     0|     0|     0|\n",
      "|9zc7t7rbg1s94uz65...|2019-04-02 05:16:46|Transcendental nu...|[[File:PI constan...|    11|     3|     0|     0|     0|\n",
      "|nemd2ap6y6nudliid...|2009-05-28 00:23:36|   Total ordered set|#REDIRECT [[Total...|     0|     0|     0|     0|     0|\n",
      "|4bgwfxjzg9efe1i2p...|2019-04-23 06:49:48|      The Terminator|{{About|the 1984 ...|    19|     6|     0|     0|     0|\n",
      "|1vvp0d38zp0mhb202...|2019-04-28 17:58:30|         Total order|{{Use dmy dates|d...|    16|     6|     0|     0|     0|\n",
      "|qxtlqdd80re782rvg...|2019-04-26 02:42:27|     Tactical voting|{{Use dmy dates|d...|    27|    16|     0|     0|     0|\n",
      "|3x90vq59lrhddfz8w...|2019-03-02 03:58:00|   Tetraodontiformes|{{one source|date...|     5|     0|     0|     0|     0|\n",
      "|bocafg0tfor87phhc...|2019-04-24 08:24:13|           Thesaurus|[[File: Historica...|     5|     0|     0|     0|     0|\n",
      "|h1yyxbj8242760sm5...|2019-01-07 14:47:33|      Total preorder|#REDIRECT [[Weak ...|     0|     0|     0|     0|     0|\n",
      "+--------------------+-------------------+--------------------+--------------------+------+------+------+------+------+\n",
      "only showing top 20 rows\n",
      "\n"
     ]
    }
   ],
   "source": [
    "\"\"\"\n",
    "Headings counting\n",
    "Syntaxis:\n",
    "    ==Level 2==\n",
    "    ===Level 3===\n",
    "    ====Level 4====\n",
    "    =====Level 5=====\n",
    "    ======Level 6======\n",
    "\"\"\"\n",
    "\n",
    "def single_head_level_count(text, level):\n",
    "    assert level in range(2,7)\n",
    "    pattern = \"=\" * level\n",
    "    pattern = pattern + \"[a-zA-Z0-9.,!? ]+\" + pattern\n",
    "    return size(split(text, pattern=pattern))-1\n",
    "\n",
    "def count_headings(df):\n",
    "    return reduce(\n",
    "        lambda df, level: df.withColumn(\"level{}\".format(level),\n",
    "                                        single_head_level_count(col(\"text\"), level)),\n",
    "        range(2, 7), df)\n",
    "    \n",
    "count_headings(clean_df).show(20)"
   ]
  },
  {
   "cell_type": "code",
   "execution_count": 325,
   "metadata": {},
   "outputs": [],
   "source": [
    "'''Internal Links:\n",
    "    [[A]] -- internal reference to an article titled A\n",
    "    [[A|B]] -- internal reference to an article titled A (written as B)\n",
    "    [[A#C|B]] -- internal reference to a section C of an article titled A (written as B)'''\n",
    "\n",
    "def count_internal_links(df):\n",
    "    \n",
    "    pattern = \"\\[\\[[a-zA-Z0-9.,!? ]+\\]\\]\"\n",
    "    pattern += \"|\\[\\[[a-zA-Z0-9.,!? ]+\\|[a-zA-Z0-9.,!? ]+\\]\\]\"\n",
    "    pattern += \"|\\[\\[[a-zA-Z0-9.,!? ]+#[a-zA-Z0-9.,!? ]+\\|[a-zA-Z0-9.,!? ]+\\]\\]\"\n",
    "    \n",
    "    return df.withColumn(\"n_internal_links\",\n",
    "                         size(split(col('text'), pattern=pattern))-1)"
   ]
  },
  {
   "cell_type": "code",
   "execution_count": 355,
   "metadata": {},
   "outputs": [],
   "source": [
    "'''External Links:\n",
    "    https://www.google.com -- simple link\n",
    "    [https://www.google.com] -- link (reference)\n",
    "    [https://www.google.com A] -- reference written as A\n",
    "    <ref name=\"B\">[https://www.google.com A]</ref> -- reference A written as B, can be referenced again like:\n",
    "    <ref name=\"B\" /> -- reference to the source B\n",
    "    <ref>Lots of words</ref> -- reference without a link\n",
    "    {{sfnm|1a1=Craig|1y=2005|1p=14|2a1=Sheehan|2y=2003|2p=85}} -- external reference\n",
    "    Example:\n",
    "        {{sfnm|1a1=McLaughlin|1y=2007|1p=59|2a1=Flint|2y=2009|2p=27}} -- McLaughlin 2007, p. 59; Flint 2009, p. 27.\n",
    "        {{sfnm|1a1=Craig|1y=2005|1p=14|2a1=Sheehan|2y=2003|2p=85}} -- Craig 2005, p. 14; Sheehan 2003, p. 85.'''\n",
    "\n",
    "def count_external_links(df):\n",
    "    \n",
    "    pattern = 'https?://(?:[-\\w.]|(?:%[\\da-fA-F]{2}))+'\n",
    "    pattern += '|\\[https?://(?:[-\\w.]|(?:%[\\da-fA-F]{2}))+\\]'\n",
    "    pattern += '|\\[https?://(?:[-\\w.]|(?:%[\\da-fA-F]{2}))+\\ [a-zA-Z0-9.,!? ]+]'\n",
    "    pattern += '<ref name=\"[a-zA-Z0-9.,!? ]+\">\\[https?://(?:[-\\w.]|(?:%[\\da-fA-F]{2}))+\\]'\n",
    "    \n",
    "    # template of the external reference\n",
    "    #template = '\\{\\{sfnm\\|1a1=[a-zA-Z]+\\|1y=[0-9]+\\|1p=[0-9]+\\|2a1=[a-zA-Z]+\\|2y=[0-9]+\\|2p=[0-9]+\\}\\}'\n",
    "    \n",
    "    # <ref name=\"B\" /> - this form use information from other reference, so we didn't count it again\n",
    "    # <ref>Lots of words</ref> - reference without a link will be in the other feature\n",
    "    \n",
    "    return df.withColumn(\"n_external_links\",\n",
    "                         size(split(col('text'), pattern=pattern))-1)"
   ]
  },
  {
   "cell_type": "code",
   "execution_count": 103,
   "metadata": {},
   "outputs": [],
   "source": [
    "def count_paragraphs(df):\n",
    "    \n",
    "    # filter the basic wikipedia syntaxis\n",
    "    pattern_filtering = '\\n\\n\\{\\{.*\\}\\}\\n\\n|\\n\\n\\[\\[.*\\]\\]\\n\\n|\\n\\n={1,7}.*={1,7}\\n\\n'\n",
    "    # split by two enters\n",
    "    pattern_splitting = '\\n\\n'\n",
    "\n",
    "    return df.withColumn('n_paragraphs', size(split(regexp_replace(col('text'), \n",
    "                                                                   pattern_filtering, ''), \n",
    "                                                    pattern_splitting))-1)"
   ]
  },
  {
   "cell_type": "code",
   "execution_count": 111,
   "metadata": {},
   "outputs": [],
   "source": [
    "'''<ref>Lots of words</ref> -- reference without a link\n",
    "{{cn}} -- citation needed'''\n",
    "\n",
    "def count_unreferenced(df):\n",
    "    \n",
    "    # citation needed and references without link\n",
    "    pattern = '\\{\\{cn\\}\\}|<ref>[a-zA-Z0-9.,!? ]+</ref>'\n",
    "    \n",
    "    return df.withColumn('n_unreferenced', size(split(col('text'), pattern))-1)"
   ]
  },
  {
   "cell_type": "code",
   "execution_count": 132,
   "metadata": {},
   "outputs": [],
   "source": [
    "'''[[Category:Category name]]\n",
    "[[:Category:Category name]]\n",
    "[[:File:File name]]'''\n",
    "\n",
    "def count_categories(df):\n",
    "    \n",
    "    #using template\n",
    "    pattern = '\\[\\[:?Category:[a-zA-Z0-9.,\\-!?\\(\\) ]+\\]\\]'\n",
    "    \n",
    "    return df.withColumn('n_categories', size(split(col('text'), pattern))-1)"
   ]
  },
  {
   "cell_type": "code",
   "execution_count": 133,
   "metadata": {},
   "outputs": [
    {
     "name": "stdout",
     "output_type": "stream",
     "text": [
      "+--------------------+-------------------+-----------+--------------------+------------+\n",
      "|                sha1|          timestamp|      title|                text|n_categories|\n",
      "+--------------------+-------------------+-----------+--------------------+------------+\n",
      "|5ib24sew99ceyko33...|2019-04-11 16:19:39|The X-Files|{{About|the telev...|          40|\n",
      "|q2nngvea32gwowk9y...|2019-04-25 23:53:46|Third World|{{mergefrom|Third...|           6|\n",
      "|ihx6i3puongpsv8n4...|2019-04-21 05:46:04| Twin Peaks|{{About|the TV se...|          53|\n",
      "|s8aob488ldyo67vob...|2019-04-25 14:51:44|   Thallium|{{distinguish|Thu...|           2|\n",
      "+--------------------+-------------------+-----------+--------------------+------------+\n",
      "\n"
     ]
    }
   ],
   "source": [
    "count_categories(clean_df.limit(4)).show()"
   ]
  },
  {
   "cell_type": "markdown",
   "metadata": {},
   "source": [
    "## Clustering "
   ]
  },
  {
   "cell_type": "code",
   "execution_count": 7,
   "metadata": {},
   "outputs": [],
   "source": [
    "#from sklearn import datasets\n",
    "#data = datasets.load_iris()\n",
    "#data = pd.DataFrame(np.c_[data['data'], data['target']])\n",
    "#data.to_csv('iris.csv', index=False)"
   ]
  },
  {
   "cell_type": "code",
   "execution_count": 92,
   "metadata": {},
   "outputs": [],
   "source": [
    "from pyspark.ml.clustering import BisectingKMeans\n",
    "from pyspark.ml.feature import PCA"
   ]
  },
  {
   "cell_type": "code",
   "execution_count": 182,
   "metadata": {},
   "outputs": [
    {
     "name": "stdout",
     "output_type": "stream",
     "text": [
      "+---+---+---+---+---+\n",
      "|  0|  1|  2|  3|  4|\n",
      "+---+---+---+---+---+\n",
      "|5.1|3.5|1.4|0.2|0.0|\n",
      "|4.9|3.0|1.4|0.2|0.0|\n",
      "|4.7|3.2|1.3|0.2|0.0|\n",
      "|4.6|3.1|1.5|0.2|0.0|\n",
      "|5.0|3.6|1.4|0.2|0.0|\n",
      "|5.4|3.9|1.7|0.4|0.0|\n",
      "|4.6|3.4|1.4|0.3|0.0|\n",
      "|5.0|3.4|1.5|0.2|0.0|\n",
      "|4.4|2.9|1.4|0.2|0.0|\n",
      "|4.9|3.1|1.5|0.1|0.0|\n",
      "+---+---+---+---+---+\n",
      "only showing top 10 rows\n",
      "\n"
     ]
    }
   ],
   "source": [
    "dataset = spark.read.csv('../csv_data/iris.csv', inferSchema=True, header=True, multiLine=True, escape='\"')\n",
    "dataset.show(10)"
   ]
  },
  {
   "cell_type": "code",
   "execution_count": 183,
   "metadata": {},
   "outputs": [],
   "source": [
    "for i in range(4):\n",
    "    dataset = dataset.withColumnRenamed(str(i), 'features_'+str(i))\n",
    "dataset = dataset.withColumnRenamed('4', 'labels')\n",
    "\n",
    "features = dataset[['features_0', 'features_1', 'features_2', 'features_3']]\n",
    "labels = dataset['labels']"
   ]
  },
  {
   "cell_type": "code",
   "execution_count": 184,
   "metadata": {},
   "outputs": [],
   "source": [
    "# vectorize features into single row with type Vector\n",
    "vectorAssembler = VectorAssembler(inputCols=['features_0', 'features_1', 'features_2', 'features_3'],\n",
    "                                  outputCol=\"features\")\n",
    "features = vectorAssembler.transform(features)"
   ]
  },
  {
   "cell_type": "code",
   "execution_count": 185,
   "metadata": {},
   "outputs": [
    {
     "name": "stdout",
     "output_type": "stream",
     "text": [
      "+----------+----------+----------+----------+-----------------+\n",
      "|features_0|features_1|features_2|features_3|         features|\n",
      "+----------+----------+----------+----------+-----------------+\n",
      "|       5.1|       3.5|       1.4|       0.2|[5.1,3.5,1.4,0.2]|\n",
      "|       4.9|       3.0|       1.4|       0.2|[4.9,3.0,1.4,0.2]|\n",
      "|       4.7|       3.2|       1.3|       0.2|[4.7,3.2,1.3,0.2]|\n",
      "|       4.6|       3.1|       1.5|       0.2|[4.6,3.1,1.5,0.2]|\n",
      "+----------+----------+----------+----------+-----------------+\n",
      "only showing top 4 rows\n",
      "\n"
     ]
    }
   ],
   "source": [
    "features.show(4)"
   ]
  },
  {
   "cell_type": "code",
   "execution_count": 186,
   "metadata": {},
   "outputs": [
    {
     "name": "stdout",
     "output_type": "stream",
     "text": [
      "Within Set Sum of Squared Errors = 84.20375254574043\n",
      "Cluster Centers: \n",
      "[5.00566038 3.36981132 1.56037736 0.29056604]\n",
      "[5.94745763 2.76610169 4.45423729 1.45423729]\n",
      "[6.85       3.07368421 5.74210526 2.07105263]\n"
     ]
    }
   ],
   "source": [
    "# Trains a bisecting k-means model.\n",
    "bkm = BisectingKMeans().setK(3).setSeed(1)\n",
    "model = bkm.fit(features)\n",
    "\n",
    "# Evaluate clustering.\n",
    "cost = model.computeCost(features)\n",
    "print(\"Within Set Sum of Squared Errors = \" + str(cost))\n",
    "\n",
    "# Shows the result.\n",
    "print(\"Cluster Centers: \")\n",
    "centers = model.clusterCenters()\n",
    "for center in centers:\n",
    "    print(center)"
   ]
  },
  {
   "cell_type": "code",
   "execution_count": 187,
   "metadata": {},
   "outputs": [],
   "source": [
    "#get predictions and collect into the list\n",
    "labels = model.transform(features).select('prediction')\n",
    "labels = labels.collect() \n",
    "#create vanilla list with ints \n",
    "# instead of list with element type Rows\n",
    "labels = list(map(lambda x: x.prediction, labels))"
   ]
  },
  {
   "cell_type": "markdown",
   "metadata": {},
   "source": [
    "## PCA compressing"
   ]
  },
  {
   "cell_type": "code",
   "execution_count": 189,
   "metadata": {
    "scrolled": true
   },
   "outputs": [
    {
     "name": "stdout",
     "output_type": "stream",
     "text": [
      "+-----------------------------------------+\n",
      "|pcaFeatures                              |\n",
      "+-----------------------------------------+\n",
      "|[-2.818239506639473,-5.646349823412762]  |\n",
      "|[-2.7882234453146832,-5.149951351762869] |\n",
      "|[-2.613374563549713,-5.182003150742105]  |\n",
      "|[-2.757022276967599,-5.008653597575749]  |\n",
      "|[-2.77364859605448,-5.653707089762587]   |\n",
      "|[-3.2215054997645174,-6.068283025890586] |\n",
      "|[-2.681827381868401,-5.237491192299108]  |\n",
      "|[-2.8762201594623766,-5.49033753652599]  |\n",
      "|[-2.615982400828456,-4.74864082264096]   |\n",
      "|[-2.8296093347880547,-5.213178330953537] |\n",
      "|[-2.995418041957154,-5.972021475476232]  |\n",
      "|[-2.889609901700287,-5.341682515989045]  |\n",
      "|[-2.7162558664209913,-5.091840576625933] |\n",
      "|[-2.2785613887433565,-4.815557989821284] |\n",
      "|[-2.8576147426669802,-6.505717213265226] |\n",
      "|[-3.116326099077877,-6.665014907228327]  |\n",
      "|[-2.8788372573845833,-6.137632091008922] |\n",
      "|[-2.854068426354628,-5.638801721421016]  |\n",
      "|[-3.3025448089914295,-6.1997916157898665]|\n",
      "|[-2.914378732730242,-5.840512885576951]  |\n",
      "+-----------------------------------------+\n",
      "only showing top 20 rows\n",
      "\n"
     ]
    }
   ],
   "source": [
    "pca = PCA(k=2, inputCol=\"features\", outputCol=\"pcaFeatures\")\n",
    "model = pca.fit(features)\n",
    "\n",
    "compressed = model.transform(features).select(\"pcaFeatures\")\n",
    "compressed.show(truncate=False)"
   ]
  },
  {
   "cell_type": "code",
   "execution_count": 190,
   "metadata": {},
   "outputs": [],
   "source": [
    "compressed = compressed.toPandas()\n",
    "compressed.pcaFeatures = compressed.pcaFeatures.apply(lambda x: np.array(x))\n",
    "compressed = compressed.pcaFeatures.values\n",
    "compressed = np.stack(compressed, axis=0)"
   ]
  },
  {
   "cell_type": "code",
   "execution_count": 191,
   "metadata": {},
   "outputs": [],
   "source": [
    "colors = {0: 'red', 1: 'green', 2: 'blue'}\n",
    "colors = list(map(lambda x: colors[x], labels))"
   ]
  },
  {
   "cell_type": "code",
   "execution_count": 192,
   "metadata": {},
   "outputs": [
    {
     "data": {
      "text/plain": [
       "<matplotlib.collections.PathCollection at 0x11e1618d0>"
      ]
     },
     "execution_count": 192,
     "metadata": {},
     "output_type": "execute_result"
    },
    {
     "data": {
      "image/png": "[encoded data removed]",
      "text/plain": [
       "<Figure size 1050x600 with 1 Axes>"
      ]
     },
     "metadata": {
      "needs_background": "light"
     },
     "output_type": "display_data"
    }
   ],
   "source": [
    "plt.figure(figsize=(7, 4), dpi=150)\n",
    "plt.scatter(compressed[:, 0], compressed[:, 1], alpha=0.7, color=colors)"
   ]
  }
 ],
 "metadata": {
  "kernelspec": {
   "display_name": "Python 3",
   "language": "python",
   "name": "python3"
  },
  "language_info": {
   "codemirror_mode": {
    "name": "ipython",
    "version": 3
   },
   "file_extension": ".py",
   "mimetype": "text/x-python",
   "name": "python",
   "nbconvert_exporter": "python",
   "pygments_lexer": "ipython3",
   "version": "3.7.2"
  }
 },
 "nbformat": 4,
 "nbformat_minor": 2
}
