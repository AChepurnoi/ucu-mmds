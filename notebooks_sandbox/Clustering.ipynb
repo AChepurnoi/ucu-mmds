{
 "cells": [
  {
   "cell_type": "code",
   "execution_count": 293,
   "metadata": {},
   "outputs": [],
   "source": [
    "import numpy as np\n",
    "import pandas as pd\n",
    "\n",
    "import findspark\n",
    "findspark.init()\n",
    "import pyspark\n",
    "from pyspark.sql import SparkSession\n",
    "spark = SparkSession.builder.getOrCreate()\n",
    "\n",
    "from pyspark.sql import *\n",
    "from pyspark.sql.functions import col, lower, regexp_replace, split, size, UserDefinedFunction\n",
    "from pyspark.sql.types import StringType, IntegerType\n",
    "\n",
    "import re"
   ]
  },
  {
   "cell_type": "markdown",
   "metadata": {},
   "source": [
    "### EDA + Processing"
   ]
  },
  {
   "cell_type": "code",
   "execution_count": 283,
   "metadata": {},
   "outputs": [],
   "source": [
    "df_path = \"../csv_data/top-10-sample-output.csv\"\n",
    "# df_path = \"../csv_data/sample-output.csv\"\n",
    "df = spark.read.csv(df_path, inferSchema=True, header=True, multiLine=True, escape='\"')\n",
    "# pdf = pd.read_csv(df_path, index_col=0)"
   ]
  },
  {
   "cell_type": "code",
   "execution_count": 284,
   "metadata": {},
   "outputs": [
    {
     "name": "stdout",
     "output_type": "stream",
     "text": [
      "All columns: ['_c0', 'Unnamed: 0.1', 'comment', 'contributor', 'format', 'id', 'ip', 'model', 'ns', 'parentid', 'restrictions', 'revision', 'sha1', 'text', 'timestamp', 'title', 'username', 'revid', 'B', 'C', 'FA', 'GA', 'Start', 'Stub']\n",
      "Unique values for..\n",
      "\t format : ['text/x-wiki']\n",
      "\t model : ['wikitext']\n",
      "\t ns : [  0   4 100  12]\n",
      "\t contributor : ['  ' ' ']\n",
      "\t revision : ['         ' '          ' '        ']\n",
      "\t restrictions : [nan 'move=:edit=' 'move=sysop' 'edit=autoconfirmed:move=autoconfirmed'\n",
      " 'sysop' 'edit=sysop:move=sysop']\n",
      "Useful columns: ['sha1', 'timestamp', 'title', 'text', 'Stub', 'Start', 'C', 'B', 'GA', 'FA']\n"
     ]
    }
   ],
   "source": [
    "\"\"\"\n",
    "Columns filtering\n",
    "    Useful: sha1 (as identifier),  timestamp, title, text\n",
    "    Questionable: user, comment, ip, id (there are different articles with the same id), parentid, restrictions\n",
    "    Not useful (no unique info): model, format, ns, contributor, revision, restrictions\n",
    "\"\"\" \n",
    "\n",
    "print(\"All columns:\", df.columns)\n",
    "print(\"Unique values for..\")\n",
    "for column in [\"format\", \"model\", \"ns\", \"contributor\", \"revision\", \"restrictions\"]:\n",
    "    print(\"\\t\", column, \":\", pdf[column].unique())\n",
    "    \n",
    "ores_weights = {'Stub': 1, 'Start': 2, 'C': 3, 'B': 4, 'GA': 5, 'FA': 6}\n",
    "ores_scores = list(ores_weights.keys())\n",
    "useful_columns = [\"sha1\", \"timestamp\", \"title\", \"text\"] + ores_scores\n",
    "print(\"Useful columns:\", useful_columns)\n",
    "\n",
    "clean_df = df[useful_columns]"
   ]
  },
  {
   "cell_type": "code",
   "execution_count": 285,
   "metadata": {},
   "outputs": [
    {
     "name": "stdout",
     "output_type": "stream",
     "text": [
      "root\n",
      " |-- sha1: string (nullable = true)\n",
      " |-- timestamp: timestamp (nullable = true)\n",
      " |-- title: string (nullable = true)\n",
      " |-- text: string (nullable = true)\n",
      " |-- Stub: double (nullable = true)\n",
      " |-- Start: double (nullable = true)\n",
      " |-- C: double (nullable = true)\n",
      " |-- B: double (nullable = true)\n",
      " |-- GA: double (nullable = true)\n",
      " |-- FA: double (nullable = true)\n",
      "\n",
      "Size of the DataFrame: 10 records\n"
     ]
    }
   ],
   "source": [
    "clean_df.printSchema()\n",
    "# clean_df.show(10)\n",
    "print(\"Size of the DataFrame: {} records\".format(clean_df.count()))"
   ]
  },
  {
   "cell_type": "code",
   "execution_count": 300,
   "metadata": {},
   "outputs": [],
   "source": [
    "\"\"\"\n",
    "Headings counting\n",
    "Syntaxis:\n",
    "    ==Level 2==\n",
    "    ===Level 3===\n",
    "    ====Level 4====\n",
    "    =====Level 5=====\n",
    "    ======Level 6======\n",
    "\"\"\"\n",
    "\n",
    "def single_head_level_count(text, level):\n",
    "    assert level in range(2,7)\n",
    "    pattern = \"=\" * level\n",
    "    pattern = pattern + \"[a-zA-Z0-9.,!? ]+\" + pattern\n",
    "    return size(split(text, pattern=pattern))-1\n",
    "\n",
    "def count_headings(df):\n",
    "    return reduce(\n",
    "        lambda df, level: df.withColumn(\"level{}\".format(level),\n",
    "                                        single_head_level_count(col(\"text\"), level)),\n",
    "        range(2,7), df)\n",
    "    \n",
    "df_features = count_headings(clean_df)"
   ]
  },
  {
   "cell_type": "code",
   "execution_count": 301,
   "metadata": {
    "scrolled": true
   },
   "outputs": [],
   "source": [
    "\"\"\"\n",
    "Citation counting\n",
    "Syntaxis:\n",
    "    {{cite {book}(.*?)}}\n",
    "    {{cite {journal}(.*?)}}\n",
    "\"\"\"\n",
    "\n",
    "def citation_counter(citation_source):\n",
    "    def _count_citations(text):\n",
    "        matches = re.findall(f\"{{cite {citation_source}(.*?)}}\", text, re.IGNORECASE)\n",
    "        return len(matches)\n",
    "    return _count_citations\n",
    "\n",
    "book_citations_count = UserDefinedFunction(citation_counter(\"book\"), IntegerType())\n",
    "journal_citations_count = UserDefinedFunction(citation_counter(\"journal\"), IntegerType())\n",
    "\n",
    "df_features = df_features.withColumn(\"book_citations\", book_citations_count(\"text\"))\\\n",
    "  .withColumn(\"journal_citations\", journal_citations_count(\"text\"))"
   ]
  },
  {
   "cell_type": "code",
   "execution_count": 304,
   "metadata": {},
   "outputs": [
    {
     "name": "stdout",
     "output_type": "stream",
     "text": [
      "root\n",
      " |-- sha1: string (nullable = true)\n",
      " |-- timestamp: timestamp (nullable = true)\n",
      " |-- title: string (nullable = true)\n",
      " |-- text: string (nullable = true)\n",
      " |-- Stub: double (nullable = true)\n",
      " |-- Start: double (nullable = true)\n",
      " |-- C: double (nullable = true)\n",
      " |-- B: double (nullable = true)\n",
      " |-- GA: double (nullable = true)\n",
      " |-- FA: double (nullable = true)\n",
      " |-- level2: integer (nullable = false)\n",
      " |-- level3: integer (nullable = false)\n",
      " |-- level4: integer (nullable = false)\n",
      " |-- level5: integer (nullable = false)\n",
      " |-- level6: integer (nullable = false)\n",
      " |-- book_citations: integer (nullable = true)\n",
      " |-- journal_citations: integer (nullable = true)\n",
      "\n"
     ]
    }
   ],
   "source": [
    "df_features.printSchema()"
   ]
  },
  {
   "cell_type": "markdown",
   "metadata": {},
   "source": [
    "### below is WIP (mostly trash)"
   ]
  },
  {
   "cell_type": "code",
   "execution_count": 141,
   "metadata": {},
   "outputs": [],
   "source": [
    "\"\"\"\n",
    "Wikipedia syntax\n",
    "Font:\n",
    "- ''italics''\n",
    "- '''bold'''\n",
    "- '''''both'''''\n",
    "- <s>stroke</s>\n",
    "- <u>underlined</u>\n",
    "- <!--comments-->\n",
    "\n",
    "Images:\n",
    "    [[File: | thumb  | upright | right | alt= | caption ]]\n",
    "    Example: [[File:Wiki.png|thumb|Caption]]\n",
    "\n",
    "Internal Links:\n",
    "    [[A]] -- internal reference to an article titled A\n",
    "    [[A|B]] -- internal reference to an article titled A (written as B)\n",
    "    [[A#C|B]] -- internal reference to a section C of an article titled A (written as B)\n",
    "External Links:\n",
    "    https://www.google.com -- simple link\n",
    "    [https://www.google.com] -- link (reference)\n",
    "    [https://www.google.com A] -- reference written as A\n",
    "    <ref name=\"B\">[https://www.google.com A]</ref> -- reference A written as B, can be referenced again like:\n",
    "    <ref name=\"B\" /> -- reference to the source B\n",
    "    <ref>Lots of words</ref> -- reference without a link\n",
    "    {{sfnm|1a1=Craig|1y=2005|1p=14|2a1=Sheehan|2y=2003|2p=85}} -- external reference\n",
    "    Example:\n",
    "        {{sfnm|1a1=McLaughlin|1y=2007|1p=59|2a1=Flint|2y=2009|2p=27}} -- McLaughlin 2007, p. 59; Flint 2009, p. 27.\n",
    "        {{sfnm|1a1=Craig|1y=2005|1p=14|2a1=Sheehan|2y=2003|2p=85}} -- Craig 2005, p. 14; Sheehan 2003, p. 85.\n",
    "\n",
    "{{reflist}} -- list of references\n",
    "{{cn}} -- citation needed\n",
    "\n",
    "[[Category:Category name]]\n",
    "[[:Category:Category name]]\n",
    "[[:File:File name]]\n",
    "\"\"\""
   ]
  },
  {
   "cell_type": "code",
   "execution_count": null,
   "metadata": {},
   "outputs": [],
   "source": [
    "\"\"\"\n",
    "Cite Web:\n",
    "    <ref>{{cite web\n",
    "    |url= \n",
    "    |title= \n",
    "    |author= \n",
    "    |date= \n",
    "    |work= \n",
    "    |publisher= \n",
    "    |accessdate=\n",
    "    }}</ref>\n",
    "\n",
    "Cite Journal:\n",
    "    <ref>{{cite journal\n",
    "    |last1= \n",
    "    |first1=\n",
    "    |last2=\n",
    "    |first2=\n",
    "    |year= \n",
    "    |title=\n",
    "    |journal= \n",
    "    |volume= \n",
    "    |issue= \n",
    "    |pages= \n",
    "    |publisher= \n",
    "    |doi= \n",
    "    |url=\n",
    "    |accessdate= }}</ref>\n",
    "    \n",
    "Cite Book (Short):\n",
    "    <ref>{{cite book\n",
    "    |last = \n",
    "    |first = \n",
    "    |authorlink = \n",
    "    |title = \n",
    "    |publisher = \n",
    "    |series =  \n",
    "    |year =  \n",
    "    |doi = \n",
    "    |isbn = \n",
    "    }}</ref>\n",
    "\n",
    "Cite Book (Extended):\n",
    "    <ref>{{cite book\n",
    "    | last       = \n",
    "    | first      = \n",
    "    | authorlink = \n",
    "    | coauthors  = \n",
    "    | editor        = \n",
    "    | title         = \n",
    "    | trans_title   = \n",
    "    | url           = \n",
    "    | accessdate    = \n",
    "    | edition   = \n",
    "    | series    = \n",
    "    | volume    = \n",
    "    | date      = \n",
    "    | year      = \n",
    "    | publisher = \n",
    "    | location  = \n",
    "    | isbn      = \n",
    "    | doi       = \n",
    "    | page      = \n",
    "    | pages     = \n",
    "    | chapter   = \n",
    "    }}</ref>\n",
    "    \n",
    "\"\"\""
   ]
  },
  {
   "cell_type": "code",
   "execution_count": null,
   "metadata": {},
   "outputs": [],
   "source": [
    "spark.stop()"
   ]
  },
  {
   "cell_type": "markdown",
   "metadata": {},
   "source": [
    "### Clustering"
   ]
  },
  {
   "cell_type": "code",
   "execution_count": 11,
   "metadata": {},
   "outputs": [],
   "source": [
    "# from pyspark.ml.clustering import BisectingKMeans\n",
    "\n",
    "# # Loads data.\n",
    "# dataset = spark.read.format(\"libsvm\").load(\"sample_kmeans_data.txt\")\n",
    "\n",
    "# # Trains a bisecting k-means model.\n",
    "# bkm = BisectingKMeans().setK(2).setSeed(1)\n",
    "# model = bkm.fit(dataset)\n",
    "\n",
    "# # Evaluate clustering.\n",
    "# cost = model.computeCost(dataset)\n",
    "# print(\"Within Set Sum of Squared Errors = \" + str(cost))\n",
    "\n",
    "# # Shows the result.\n",
    "# print(\"Cluster Centers: \")\n",
    "# centers = model.clusterCenters()\n",
    "# for center in centers:\n",
    "#     print(center)"
   ]
  },
  {
   "cell_type": "code",
   "execution_count": 257,
   "metadata": {},
   "outputs": [],
   "source": [
    "# import mwapi\n",
    "# import mwtypes\n",
    "# import requests\n",
    "# from datetime import datetime as dt\n",
    "\n",
    "# session = mwapi.Session(\"https://en.wikipedia.org\")#, user_agent=\"diego@wikimedia.org -- Tools demo\")\n",
    "\n",
    "# LOCAL_TIMEDELTA = dt.now().astimezone().utcoffset().total_seconds()\n",
    "\n",
    "# WEIGHTS = {'Stub': 1, 'Start': 2, 'C': 3, 'B': 4, 'GA': 5, 'FA': 6}\n",
    "\n",
    "# def score2sum(score_doc):\n",
    "#     weighted_sum = 0\n",
    "#     for cl, proba in score_doc['probability'].items():\n",
    "#         weighted_sum += WEIGHTS[cl] * proba\n",
    "#     return weighted_sum\n",
    "\n",
    "# def fetch_wp10_score(rev_id):\n",
    "#     response = requests.get('https://ores.wikimedia.org/v3/scores/enwiki/{0}/wp10'.format(rev_id))\n",
    "#     return response.json()['enwiki']['scores'][str(rev_id)]['wp10']['score']\n",
    "\n",
    "# def get_revision(page_name, timestamp, timedelta=LOCAL_TIMEDELTA):\n",
    "#     for response_doc in session.get(action='query', prop='revisions', titles=page_name,\n",
    "#                                     rvprop=['ids', 'timestamp'], rvlimit=100, rvdir=\"newer\", \n",
    "#                                     formatversion=2, continuation=True):\n",
    "# #         print(response_doc)\n",
    "#         rev_docs = response_doc['query']['pages'][0]['revisions']\n",
    "#         rev_docs = pd.DataFrame(rev_docs)[['revid', 'timestamp']]\n",
    "#         rev_docs['time'] = pd.to_datetime(rev_docs.timestamp, \\\n",
    "#                                           format='%Y-%m-%dT%H:%M:%SZ', \\\n",
    "#                                           errors='ignore') + pd.Timedelta(seconds=timedelta)\n",
    "#         rev_id = rev_docs[rev_docs.time == timestamp][\"revid\"]\n",
    "#         if len(rev_id) == 1:\n",
    "#             rev_id = rev_id.values[0]\n",
    "#             score = fetch_wp10_score(rev_id)\n",
    "#             weighted_sum = score2sum(score)\n",
    "#         #     return rev_id, score, weighted_sum\n",
    "#             return weighted_sum\n",
    "#         return None\n",
    "\n",
    "# get_revision(\"AccessibleComputing\", \"2018-08-14 09:47:24\")\n",
    "\n",
    "# # get_revision(\"AccessibleComputing\", \"2018-08-14 09:47:24\")\n",
    "# # fetch_historical_scores(\"AccessibleComputing\")\n",
    "\n",
    "\n",
    "# def test(page_name):\n",
    "#     session.get(action='query', prop='revisions', titles=page_name,\n",
    "#                                     rvprop=['ids', 'timestamp'], rvlimit=100, rvdir=\"newer\", \n",
    "#                                     formatversion=2, continuation=True)\n",
    "#     return page_name\n",
    "\n",
    "# def fetch_ores(df):\n",
    "#     return df.withColumn(\"ores\", test(col(\"title\")))\n",
    "\n",
    "# fetch_ores(clean_df).show(1)\n",
    "# # count_headings(clean_df).show(20)"
   ]
  },
  {
   "cell_type": "code",
   "execution_count": null,
   "metadata": {},
   "outputs": [],
   "source": []
  }
 ],
 "metadata": {
  "kernelspec": {
   "display_name": "Python 3",
   "language": "python",
   "name": "python3"
  },
  "language_info": {
   "codemirror_mode": {
    "name": "ipython",
    "version": 3
   },
   "file_extension": ".py",
   "mimetype": "text/x-python",
   "name": "python",
   "nbconvert_exporter": "python",
   "pygments_lexer": "ipython3",
   "version": "3.7.3"
  },
  "toc": {
   "nav_menu": {},
   "number_sections": true,
   "sideBar": true,
   "skip_h1_title": false,
   "toc_cell": false,
   "toc_position": {},
   "toc_section_display": "block",
   "toc_window_display": false
  }
 },
 "nbformat": 4,
 "nbformat_minor": 2
}
