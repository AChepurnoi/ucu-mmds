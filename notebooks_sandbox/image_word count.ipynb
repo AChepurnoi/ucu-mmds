{
 "cells": [
  {
   "cell_type": "code",
   "execution_count": 1,
   "metadata": {},
   "outputs": [],
   "source": [
    "%matplotlib inline\n",
    "%load_ext autoreload\n",
    "%autoreload 2\n",
    "\n",
    "import numpy as np\n",
    "import pandas as pd"
   ]
  },
  {
   "cell_type": "code",
   "execution_count": 2,
   "metadata": {},
   "outputs": [],
   "source": [
    "import findspark\n",
    "findspark.init()\n",
    "import pyspark\n",
    "from pyspark.sql import SparkSession\n",
    "spark = SparkSession.builder.getOrCreate()"
   ]
  },
  {
   "cell_type": "code",
   "execution_count": 3,
   "metadata": {},
   "outputs": [],
   "source": [
    "from pyspark.sql import *\n",
    "from pyspark.sql.functions import col, lower, regexp_replace, split, size"
   ]
  },
  {
   "cell_type": "code",
   "execution_count": 5,
   "metadata": {},
   "outputs": [
    {
     "name": "stdout",
     "output_type": "stream",
     "text": [
      "csv_data\t     notebooks\trequirements.txt  xml_to_csv.ipynb\r\n",
      "load_sample_data.sh  readme.md\txml_data\r\n"
     ]
    }
   ],
   "source": [
    "!ls .."
   ]
  },
  {
   "cell_type": "markdown",
   "metadata": {},
   "source": [
    "### EDA + Processing"
   ]
  },
  {
   "cell_type": "code",
   "execution_count": 6,
   "metadata": {},
   "outputs": [],
   "source": [
    "# df_path = \"../csv_data/top-10-sample-output.csv\"\n",
    "df_path = \"../csv_data/sample-output.csv\"\n",
    "df = spark.read.csv(df_path, inferSchema=True, header=True, multiLine=True, escape='\"')\n",
    "pdf = pd.read_csv(df_path, index_col=0)"
   ]
  },
  {
   "cell_type": "code",
   "execution_count": 9,
   "metadata": {},
   "outputs": [
    {
     "data": {
      "text/plain": [
       "Row(_c0=0, comment='remove from category for seeking instructions on rcats', contributor='  ', format='text/x-wiki', id=23257138, ip=None, model='wikitext', ns=0, parentid=834079434, restrictions=None, revision='         ', sha1='42l0cvblwtb4nnupxm6wo000d27t6kf', text='#REDIRECT [[Computer accessibility]]\\n\\n{{R from move}}\\n{{R from CamelCase}}\\n{{R unprintworthy}}', timestamp=datetime.datetime(2018, 8, 14, 6, 47, 24), title='AccessibleComputing', username='Godsy')"
      ]
     },
     "execution_count": 9,
     "metadata": {},
     "output_type": "execute_result"
    }
   ],
   "source": [
    "df.head()"
   ]
  },
  {
   "cell_type": "code",
   "execution_count": 10,
   "metadata": {},
   "outputs": [
    {
     "name": "stdout",
     "output_type": "stream",
     "text": [
      "All columns: ['_c0', 'comment', 'contributor', 'format', 'id', 'ip', 'model', 'ns', 'parentid', 'restrictions', 'revision', 'sha1', 'text', 'timestamp', 'title', 'username']\n",
      "Unique values for..\n",
      "\t format : ['text/x-wiki']\n",
      "\t model : ['wikitext']\n",
      "\t ns : [  0   4 100  12]\n",
      "\t contributor : ['  ' ' ']\n",
      "\t revision : ['         ' '          ' '        ']\n",
      "\t restrictions : [nan 'move=:edit=' 'move=sysop' 'edit=autoconfirmed:move=autoconfirmed'\n",
      " 'sysop' 'edit=sysop:move=sysop']\n",
      "Useful columns: ['sha1', 'timestamp', 'title', 'text']\n"
     ]
    }
   ],
   "source": [
    "\"\"\"\n",
    "Columns filtering\n",
    "    Useful: sha1 (as identifier),  timestamp, title, text\n",
    "    Questionable: user, comment, ip, id (there are different articles with the same id), parentid, restrictions\n",
    "    Not useful (no unique info): model, format, ns, contributor, revision, restrictions\n",
    "\"\"\" \n",
    "\n",
    "print(\"All columns:\", df.columns)\n",
    "print(\"Unique values for..\")\n",
    "for column in [\"format\", \"model\", \"ns\", \"contributor\", \"revision\", \"restrictions\"]:\n",
    "    print(\"\\t\", column, \":\", pdf[column].unique())\n",
    "    \n",
    "useful_columns = [\"sha1\", \"timestamp\", \"title\", \"text\"]\n",
    "print(\"Useful columns:\", useful_columns)\n",
    "\n",
    "clean_df = df[useful_columns]\n",
    "clean_pdf = pdf[useful_columns]"
   ]
  },
  {
   "cell_type": "code",
   "execution_count": 11,
   "metadata": {},
   "outputs": [
    {
     "name": "stdout",
     "output_type": "stream",
     "text": [
      "+--------------------+-------------------+--------------------+--------------------+\n",
      "|                sha1|          timestamp|               title|                text|\n",
      "+--------------------+-------------------+--------------------+--------------------+\n",
      "|42l0cvblwtb4nnupx...|2018-08-14 06:47:24| AccessibleComputing|#REDIRECT [[Compu...|\n",
      "|2d0jpq2oi6jjc6hbb...|2019-06-16 00:28:20|           Anarchism|{{redirect2|Anarc...|\n",
      "|iv7s0lr40b17x33tf...|2017-06-05 04:18:18|  AfghanistanHistory|#REDIRECT [[Histo...|\n",
      "|39r4w8qg62iexlysk...|2017-06-05 04:18:23|AfghanistanGeography|#REDIRECT [[Geogr...|\n",
      "|fncm9bh9l25bmvyzq...|2017-06-05 04:19:42|   AfghanistanPeople|#REDIRECT [[Demog...|\n",
      "|q8gdi8070w6yitd4h...|2017-06-05 04:19:45|AfghanistanCommun...|#REDIRECT [[Commu...|\n",
      "|miah0hk4ws6ctake8...|2017-06-04 21:42:11|AfghanistanTransp...|#REDIRECT [[Trans...|\n",
      "|j013t2shx5j3p2gq4...|2017-06-04 21:43:11| AfghanistanMilitary|#REDIRECT [[Afgha...|\n",
      "|80xx3tzgvcdioufir...|2017-06-04 21:43:14|AfghanistanTransn...|#REDIRECT [[Forei...|\n",
      "|f0x0fdqkexsha1xdm...|2017-06-05 04:19:50| AssistiveTechnology|#REDIRECT [[Assis...|\n",
      "+--------------------+-------------------+--------------------+--------------------+\n",
      "only showing top 10 rows\n",
      "\n",
      "+----------------------------------------------------------------------------------------------+\n",
      "|text                                                                                          |\n",
      "+----------------------------------------------------------------------------------------------+\n",
      "|#REDIRECT [[Computer accessibility]]\n",
      "\n",
      "{{R from move}}\n",
      "{{R from CamelCase}}\n",
      "{{R unprintworthy}}|\n",
      "+----------------------------------------------------------------------------------------------+\n",
      "only showing top 1 row\n",
      "\n"
     ]
    }
   ],
   "source": [
    "clean_df.show(10)\n",
    "clean_df[[\"text\"]].show(1, truncate=False)"
   ]
  },
  {
   "cell_type": "code",
   "execution_count": 12,
   "metadata": {},
   "outputs": [
    {
     "name": "stdout",
     "output_type": "stream",
     "text": [
      "root\n",
      " |-- sha1: string (nullable = true)\n",
      " |-- timestamp: timestamp (nullable = true)\n",
      " |-- title: string (nullable = true)\n",
      " |-- text: string (nullable = true)\n",
      "\n",
      "Size of the DataFrame: 19821 records\n"
     ]
    }
   ],
   "source": [
    "clean_df.printSchema()\n",
    "print(\"Size of the DataFrame: {} records\".format(clean_df.count()))"
   ]
  },
  {
   "cell_type": "code",
   "execution_count": 28,
   "metadata": {},
   "outputs": [
    {
     "name": "stdout",
     "output_type": "stream",
     "text": [
      "+--------------------+-------------------+--------------------+--------------------+\n",
      "|                sha1|          timestamp|               title|                text|\n",
      "+--------------------+-------------------+--------------------+--------------------+\n",
      "|42l0cvblwtb4nnupx...|2018-08-14 06:47:24| AccessibleComputing|#REDIRECT [[Compu...|\n",
      "|2d0jpq2oi6jjc6hbb...|2019-06-16 00:28:20|           Anarchism|{{redirect2|Anarc...|\n",
      "|iv7s0lr40b17x33tf...|2017-06-05 04:18:18|  AfghanistanHistory|#REDIRECT [[Histo...|\n",
      "|39r4w8qg62iexlysk...|2017-06-05 04:18:23|AfghanistanGeography|#REDIRECT [[Geogr...|\n",
      "|fncm9bh9l25bmvyzq...|2017-06-05 04:19:42|   AfghanistanPeople|#REDIRECT [[Demog...|\n",
      "|q8gdi8070w6yitd4h...|2017-06-05 04:19:45|AfghanistanCommun...|#REDIRECT [[Commu...|\n",
      "|miah0hk4ws6ctake8...|2017-06-04 21:42:11|AfghanistanTransp...|#REDIRECT [[Trans...|\n",
      "|j013t2shx5j3p2gq4...|2017-06-04 21:43:11| AfghanistanMilitary|#REDIRECT [[Afgha...|\n",
      "|80xx3tzgvcdioufir...|2017-06-04 21:43:14|AfghanistanTransn...|#REDIRECT [[Forei...|\n",
      "|f0x0fdqkexsha1xdm...|2017-06-05 04:19:50| AssistiveTechnology|#REDIRECT [[Assis...|\n",
      "|ehl9qk3qz207n09xw...|2017-06-05 04:19:55|        AmoeboidTaxa|#REDIRECT [[Amoeb...|\n",
      "|2g74nk1fzt9rfdm1s...|2019-06-17 02:23:23|              Autism|{{about|the class...|\n",
      "|rbhoo26ul5z7m8uw9...|2017-06-05 04:20:00|      AlbaniaHistory|#REDIRECT [[Histo...|\n",
      "|hc34qmkw4yiceqh6y...|2017-06-05 04:20:05|       AlbaniaPeople|#REDIRECT [[Demog...|\n",
      "|l902evpyqkgd67h0j...|2017-06-04 21:43:17|        AsWeMayThink|#REDIRECT [[As_We...|\n",
      "|hnsv8s58ruj7rca9d...|2017-06-04 21:45:21|   AlbaniaGovernment|#REDIRECT [[Polit...|\n",
      "|6rq9n647vsyp1nsed...|2017-06-04 21:45:23|      AlbaniaEconomy|#REDIRECT [[Econo...|\n",
      "|gqn4tsulp9zynj90b...|2019-06-10 10:44:13|              Albedo|{{Other uses}}\n",
      "{{...|\n",
      "|ickzq7h4e9kumn0f1...|2017-06-04 21:45:24|AfroAsiaticLanguages|#REDIRECT [[Afroa...|\n",
      "|btmq5vs8ieulquadx...|2019-05-29 23:50:04|  ArtificalLanguages|#REDIRECT [[Const...|\n",
      "+--------------------+-------------------+--------------------+--------------------+\n",
      "only showing top 20 rows\n",
      "\n"
     ]
    }
   ],
   "source": [
    "clean_df.show()"
   ]
  },
  {
   "cell_type": "code",
   "execution_count": 35,
   "metadata": {},
   "outputs": [],
   "source": [
    "# list(pdf.head()['text'])"
   ]
  },
  {
   "cell_type": "code",
   "execution_count": 36,
   "metadata": {},
   "outputs": [
    {
     "name": "stdout",
     "output_type": "stream",
     "text": [
      "+--------------------+-------------------+--------------------+--------------------+----------------+\n",
      "|                sha1|          timestamp|               title|                text|n_internal_links|\n",
      "+--------------------+-------------------+--------------------+--------------------+----------------+\n",
      "|42l0cvblwtb4nnupx...|2018-08-14 06:47:24| AccessibleComputing|#REDIRECT [[Compu...|               1|\n",
      "|2d0jpq2oi6jjc6hbb...|2019-06-16 00:28:20|           Anarchism|{{redirect2|Anarc...|             389|\n",
      "|iv7s0lr40b17x33tf...|2017-06-05 04:18:18|  AfghanistanHistory|#REDIRECT [[Histo...|               1|\n",
      "|39r4w8qg62iexlysk...|2017-06-05 04:18:23|AfghanistanGeography|#REDIRECT [[Geogr...|               1|\n",
      "|fncm9bh9l25bmvyzq...|2017-06-05 04:19:42|   AfghanistanPeople|#REDIRECT [[Demog...|               1|\n",
      "|q8gdi8070w6yitd4h...|2017-06-05 04:19:45|AfghanistanCommun...|#REDIRECT [[Commu...|               1|\n",
      "|miah0hk4ws6ctake8...|2017-06-04 21:42:11|AfghanistanTransp...|#REDIRECT [[Trans...|               1|\n",
      "|j013t2shx5j3p2gq4...|2017-06-04 21:43:11| AfghanistanMilitary|#REDIRECT [[Afgha...|               1|\n",
      "|80xx3tzgvcdioufir...|2017-06-04 21:43:14|AfghanistanTransn...|#REDIRECT [[Forei...|               1|\n",
      "|f0x0fdqkexsha1xdm...|2017-06-05 04:19:50| AssistiveTechnology|#REDIRECT [[Assis...|               0|\n",
      "|ehl9qk3qz207n09xw...|2017-06-05 04:19:55|        AmoeboidTaxa|#REDIRECT [[Amoeb...|               1|\n",
      "|2g74nk1fzt9rfdm1s...|2019-06-17 02:23:23|              Autism|{{about|the class...|             305|\n",
      "|rbhoo26ul5z7m8uw9...|2017-06-05 04:20:00|      AlbaniaHistory|#REDIRECT [[Histo...|               1|\n",
      "|hc34qmkw4yiceqh6y...|2017-06-05 04:20:05|       AlbaniaPeople|#REDIRECT [[Demog...|               1|\n",
      "|l902evpyqkgd67h0j...|2017-06-04 21:43:17|        AsWeMayThink|#REDIRECT [[As_We...|               0|\n",
      "|hnsv8s58ruj7rca9d...|2017-06-04 21:45:21|   AlbaniaGovernment|#REDIRECT [[Polit...|               1|\n",
      "|6rq9n647vsyp1nsed...|2017-06-04 21:45:23|      AlbaniaEconomy|#REDIRECT [[Econo...|               1|\n",
      "|gqn4tsulp9zynj90b...|2019-06-10 10:44:13|              Albedo|{{Other uses}}\n",
      "{{...|             105|\n",
      "|ickzq7h4e9kumn0f1...|2017-06-04 21:45:24|AfroAsiaticLanguages|#REDIRECT [[Afroa...|               1|\n",
      "|btmq5vs8ieulquadx...|2019-05-29 23:50:04|  ArtificalLanguages|#REDIRECT [[Const...|               1|\n",
      "+--------------------+-------------------+--------------------+--------------------+----------------+\n",
      "only showing top 20 rows\n",
      "\n"
     ]
    }
   ],
   "source": [
    "'''Internal Links:\n",
    "    [[A]] -- internal reference to an article titled A\n",
    "    [[A|B]] -- internal reference to an article titled A (written as 😎\n",
    "    [[A#C|B]] -- internal reference to a section C of an article titled A (written as B)'''\n",
    "\n",
    "\n",
    "\n",
    "def count_internal_links(df):\n",
    "    pattern = \"\\[\\[[a-zA-Z0-9.,!? ]+\\]\\]\"\n",
    "    pattern += \"|\\[\\[[a-zA-Z0-9.,!? ]+\\|[a-zA-Z0-9.,!? ]+\\]\\]\"\n",
    "    pattern += \"|\\[\\[[a-zA-Z0-9.,!? ]+#[a-zA-Z0-9.,!? ]+\\|[a-zA-Z0-9.,!? ]+\\]\\]\"\n",
    "    \n",
    "    return df.withColumn(\"n_internal_links\", size(split(col('text'), pattern=pattern))-1 )\n",
    "\n",
    "count_internal_links(clean_df).show()"
   ]
  },
  {
   "cell_type": "code",
   "execution_count": 77,
   "metadata": {},
   "outputs": [
    {
     "name": "stdout",
     "output_type": "stream",
     "text": [
      "+--------------------+-------------------+--------------------+--------------------+------------+\n",
      "|                sha1|          timestamp|               title|                text|count_images|\n",
      "+--------------------+-------------------+--------------------+--------------------+------------+\n",
      "|42l0cvblwtb4nnupx...|2018-08-14 06:47:24| AccessibleComputing|#REDIRECT [[Compu...|           0|\n",
      "|2d0jpq2oi6jjc6hbb...|2019-06-16 00:28:20|           Anarchism|{{redirect2|Anarc...|           0|\n",
      "|iv7s0lr40b17x33tf...|2017-06-05 04:18:18|  AfghanistanHistory|#REDIRECT [[Histo...|           0|\n",
      "|39r4w8qg62iexlysk...|2017-06-05 04:18:23|AfghanistanGeography|#REDIRECT [[Geogr...|           0|\n",
      "|fncm9bh9l25bmvyzq...|2017-06-05 04:19:42|   AfghanistanPeople|#REDIRECT [[Demog...|           0|\n",
      "|q8gdi8070w6yitd4h...|2017-06-05 04:19:45|AfghanistanCommun...|#REDIRECT [[Commu...|           0|\n",
      "|miah0hk4ws6ctake8...|2017-06-04 21:42:11|AfghanistanTransp...|#REDIRECT [[Trans...|           0|\n",
      "|j013t2shx5j3p2gq4...|2017-06-04 21:43:11| AfghanistanMilitary|#REDIRECT [[Afgha...|           0|\n",
      "|80xx3tzgvcdioufir...|2017-06-04 21:43:14|AfghanistanTransn...|#REDIRECT [[Forei...|           0|\n",
      "|f0x0fdqkexsha1xdm...|2017-06-05 04:19:50| AssistiveTechnology|#REDIRECT [[Assis...|           0|\n",
      "|ehl9qk3qz207n09xw...|2017-06-05 04:19:55|        AmoeboidTaxa|#REDIRECT [[Amoeb...|           0|\n",
      "|2g74nk1fzt9rfdm1s...|2019-06-17 02:23:23|              Autism|{{about|the class...|           0|\n",
      "|rbhoo26ul5z7m8uw9...|2017-06-05 04:20:00|      AlbaniaHistory|#REDIRECT [[Histo...|           0|\n",
      "|hc34qmkw4yiceqh6y...|2017-06-05 04:20:05|       AlbaniaPeople|#REDIRECT [[Demog...|           0|\n",
      "|l902evpyqkgd67h0j...|2017-06-04 21:43:17|        AsWeMayThink|#REDIRECT [[As_We...|           0|\n",
      "|hnsv8s58ruj7rca9d...|2017-06-04 21:45:21|   AlbaniaGovernment|#REDIRECT [[Polit...|           0|\n",
      "|6rq9n647vsyp1nsed...|2017-06-04 21:45:23|      AlbaniaEconomy|#REDIRECT [[Econo...|           0|\n",
      "|gqn4tsulp9zynj90b...|2019-06-10 10:44:13|              Albedo|{{Other uses}}\n",
      "{{...|           0|\n",
      "|ickzq7h4e9kumn0f1...|2017-06-04 21:45:24|AfroAsiaticLanguages|#REDIRECT [[Afroa...|           0|\n",
      "|btmq5vs8ieulquadx...|2019-05-29 23:50:04|  ArtificalLanguages|#REDIRECT [[Const...|           0|\n",
      "+--------------------+-------------------+--------------------+--------------------+------------+\n",
      "only showing top 20 rows\n",
      "\n"
     ]
    }
   ],
   "source": [
    "'''\n",
    "    [[File: | thumb  | upright | right | alt= | caption ]]\n",
    "'''\n",
    "\n",
    "def count_of_images(df):\n",
    "    any_text = \"[a-zA-Z0-9.,!? ]+ \\] \"\n",
    "    pattern = \"\\[[a-zA-Z0-9.,!? ]+\\|[a-zA-Z0-9.,!? ]+\\|[a-zA-Z0-9.,!? ]+\\|[a-zA-Z0-9.,!? ]+\\|[a-zA-Z0-9.,!? ]+\\|[a-zA-Z0-9.,!? ]+\\|[a-zA-Z0-9.,!? ]+\\|[a-zA-Z0-9.,!? ]+\\]\"\n",
    "    return df.withColumn(\"count_images\", size(split(col('text'), pattern=pattern))-1)\n",
    "\n",
    "count_of_images(clean_df).show()\n"
   ]
  },
  {
   "cell_type": "code",
   "execution_count": 98,
   "metadata": {},
   "outputs": [],
   "source": [
    "result = count_of_images(clean_df)\n"
   ]
  },
  {
   "cell_type": "code",
   "execution_count": 105,
   "metadata": {},
   "outputs": [
    {
     "name": "stdout",
     "output_type": "stream",
     "text": [
      "+-----------------+\n",
      "|sum(count_images)|\n",
      "+-----------------+\n",
      "|                0|\n",
      "+-----------------+\n",
      "\n"
     ]
    }
   ],
   "source": [
    "from pyspark.sql import functions as f\n",
    "result.select(f.sum('count_images')).show()"
   ]
  },
  {
   "cell_type": "code",
   "execution_count": 107,
   "metadata": {},
   "outputs": [
    {
     "name": "stdout",
     "output_type": "stream",
     "text": [
      "+--------------------+-------------------+--------------------+--------------------+-----------+\n",
      "|                sha1|          timestamp|               title|                text|words_count|\n",
      "+--------------------+-------------------+--------------------+--------------------+-----------+\n",
      "|42l0cvblwtb4nnupx...|2018-08-14 06:47:24| AccessibleComputing|#REDIRECT [[Compu...|          8|\n",
      "|2d0jpq2oi6jjc6hbb...|2019-06-16 00:28:20|           Anarchism|{{redirect2|Anarc...|      10120|\n",
      "|iv7s0lr40b17x33tf...|2017-06-05 04:18:18|  AfghanistanHistory|#REDIRECT [[Histo...|          8|\n",
      "|39r4w8qg62iexlysk...|2017-06-05 04:18:23|AfghanistanGeography|#REDIRECT [[Geogr...|          8|\n",
      "|fncm9bh9l25bmvyzq...|2017-06-05 04:19:42|   AfghanistanPeople|#REDIRECT [[Demog...|          8|\n",
      "|q8gdi8070w6yitd4h...|2017-06-05 04:19:45|AfghanistanCommun...|#REDIRECT [[Commu...|          8|\n",
      "|miah0hk4ws6ctake8...|2017-06-04 21:42:11|AfghanistanTransp...|#REDIRECT [[Trans...|         10|\n",
      "|j013t2shx5j3p2gq4...|2017-06-04 21:43:11| AfghanistanMilitary|#REDIRECT [[Afgha...|          9|\n",
      "|80xx3tzgvcdioufir...|2017-06-04 21:43:14|AfghanistanTransn...|#REDIRECT [[Forei...|         10|\n",
      "|f0x0fdqkexsha1xdm...|2017-06-05 04:19:50| AssistiveTechnology|#REDIRECT [[Assis...|          6|\n",
      "|ehl9qk3qz207n09xw...|2017-06-05 04:19:55|        AmoeboidTaxa|#REDIRECT [[Amoeb...|          6|\n",
      "|2g74nk1fzt9rfdm1s...|2019-06-17 02:23:23|              Autism|{{about|the class...|      18796|\n",
      "|rbhoo26ul5z7m8uw9...|2017-06-05 04:20:00|      AlbaniaHistory|#REDIRECT [[Histo...|          8|\n",
      "|hc34qmkw4yiceqh6y...|2017-06-05 04:20:05|       AlbaniaPeople|#REDIRECT [[Demog...|          8|\n",
      "|l902evpyqkgd67h0j...|2017-06-04 21:43:17|        AsWeMayThink|#REDIRECT [[As_We...|          7|\n",
      "|hnsv8s58ruj7rca9d...|2017-06-04 21:45:21|   AlbaniaGovernment|#REDIRECT [[Polit...|          8|\n",
      "|6rq9n647vsyp1nsed...|2017-06-04 21:45:23|      AlbaniaEconomy|#REDIRECT [[Econo...|          8|\n",
      "|gqn4tsulp9zynj90b...|2019-06-10 10:44:13|              Albedo|{{Other uses}}\n",
      "{{...|       5233|\n",
      "|ickzq7h4e9kumn0f1...|2017-06-04 21:45:24|AfroAsiaticLanguages|#REDIRECT [[Afroa...|          7|\n",
      "|btmq5vs8ieulquadx...|2019-05-29 23:50:04|  ArtificalLanguages|#REDIRECT [[Const...|         12|\n",
      "+--------------------+-------------------+--------------------+--------------------+-----------+\n",
      "only showing top 20 rows\n",
      "\n"
     ]
    }
   ],
   "source": [
    "def words_counts(df):\n",
    "    return df.withColumn('words_count', f.size(f.split(f.col('text'), ' ')))\n",
    "\n",
    "words_counts(clean_df).show()"
   ]
  },
  {
   "cell_type": "code",
   "execution_count": 124,
   "metadata": {},
   "outputs": [
    {
     "name": "stdout",
     "output_type": "stream",
     "text": [
      "+--------------------+-------------------+--------------------+--------------------+-----------+\n",
      "|                sha1|          timestamp|               title|                text|words_count|\n",
      "+--------------------+-------------------+--------------------+--------------------+-----------+\n",
      "|42l0cvblwtb4nnupx...|2018-08-14 06:47:24| AccessibleComputing|#REDIRECT [[Compu...|          8|\n",
      "|2d0jpq2oi6jjc6hbb...|2019-06-16 00:28:20|           Anarchism|{{redirect2|Anarc...|      10120|\n",
      "|iv7s0lr40b17x33tf...|2017-06-05 04:18:18|  AfghanistanHistory|#REDIRECT [[Histo...|          8|\n",
      "|39r4w8qg62iexlysk...|2017-06-05 04:18:23|AfghanistanGeography|#REDIRECT [[Geogr...|          8|\n",
      "|fncm9bh9l25bmvyzq...|2017-06-05 04:19:42|   AfghanistanPeople|#REDIRECT [[Demog...|          8|\n",
      "|q8gdi8070w6yitd4h...|2017-06-05 04:19:45|AfghanistanCommun...|#REDIRECT [[Commu...|          8|\n",
      "|miah0hk4ws6ctake8...|2017-06-04 21:42:11|AfghanistanTransp...|#REDIRECT [[Trans...|         10|\n",
      "|j013t2shx5j3p2gq4...|2017-06-04 21:43:11| AfghanistanMilitary|#REDIRECT [[Afgha...|          9|\n",
      "|80xx3tzgvcdioufir...|2017-06-04 21:43:14|AfghanistanTransn...|#REDIRECT [[Forei...|         10|\n",
      "|f0x0fdqkexsha1xdm...|2017-06-05 04:19:50| AssistiveTechnology|#REDIRECT [[Assis...|          6|\n",
      "|ehl9qk3qz207n09xw...|2017-06-05 04:19:55|        AmoeboidTaxa|#REDIRECT [[Amoeb...|          6|\n",
      "|2g74nk1fzt9rfdm1s...|2019-06-17 02:23:23|              Autism|{{about|the class...|      18796|\n",
      "|rbhoo26ul5z7m8uw9...|2017-06-05 04:20:00|      AlbaniaHistory|#REDIRECT [[Histo...|          8|\n",
      "|hc34qmkw4yiceqh6y...|2017-06-05 04:20:05|       AlbaniaPeople|#REDIRECT [[Demog...|          8|\n",
      "|l902evpyqkgd67h0j...|2017-06-04 21:43:17|        AsWeMayThink|#REDIRECT [[As_We...|          7|\n",
      "|hnsv8s58ruj7rca9d...|2017-06-04 21:45:21|   AlbaniaGovernment|#REDIRECT [[Polit...|          8|\n",
      "|6rq9n647vsyp1nsed...|2017-06-04 21:45:23|      AlbaniaEconomy|#REDIRECT [[Econo...|          8|\n",
      "|gqn4tsulp9zynj90b...|2019-06-10 10:44:13|              Albedo|{{Other uses}}\n",
      "{{...|       5233|\n",
      "|ickzq7h4e9kumn0f1...|2017-06-04 21:45:24|AfroAsiaticLanguages|#REDIRECT [[Afroa...|          7|\n",
      "|btmq5vs8ieulquadx...|2019-05-29 23:50:04|  ArtificalLanguages|#REDIRECT [[Const...|         12|\n",
      "+--------------------+-------------------+--------------------+--------------------+-----------+\n",
      "only showing top 20 rows\n",
      "\n"
     ]
    }
   ],
   "source": [
    "def unique_words_counts(df):\n",
    "\n",
    "    return df.withColumn('words_count', f.size(f.split(f.col('text'), ' ')) )\n",
    "\n",
    "unique_words_counts(clean_df).show()"
   ]
  },
  {
   "cell_type": "code",
   "execution_count": null,
   "metadata": {},
   "outputs": [],
   "source": []
  },
  {
   "cell_type": "code",
   "execution_count": null,
   "metadata": {},
   "outputs": [],
   "source": []
  },
  {
   "cell_type": "code",
   "execution_count": 97,
   "metadata": {},
   "outputs": [],
   "source": [
    "# result.xagg({'*': 'count', 'Age': 'avg', 'Fare':'sum'}).show()"
   ]
  },
  {
   "cell_type": "code",
   "execution_count": 78,
   "metadata": {},
   "outputs": [],
   "source": [
    "# import re\n",
    "# pattern = r\"\\[[a-zA-Z0-9.,!? ]+\\]\"\n",
    "# # result = re.match(pattern, '[[File: | thumb  | upright | right | alt= | caption ]]')\n",
    "# result = re.match(pattern, '[File:]')\n",
    "# print(result)"
   ]
  },
  {
   "cell_type": "code",
   "execution_count": 79,
   "metadata": {},
   "outputs": [],
   "source": [
    "# # type(count_of_images(clean_df))\n",
    "# from pyspark.sql import functions as F\n",
    "# count_of_images(clean_df).select(F.sum('count_images')).collect()[0][0]"
   ]
  },
  {
   "cell_type": "code",
   "execution_count": 57,
   "metadata": {},
   "outputs": [],
   "source": [
    "# type(clean_df)"
   ]
  },
  {
   "cell_type": "code",
   "execution_count": null,
   "metadata": {},
   "outputs": [],
   "source": []
  },
  {
   "cell_type": "code",
   "execution_count": null,
   "metadata": {},
   "outputs": [],
   "source": []
  },
  {
   "cell_type": "code",
   "execution_count": 29,
   "metadata": {},
   "outputs": [
    {
     "ename": "AttributeError",
     "evalue": "'DataFrame' object has no attribute 's'",
     "output_type": "error",
     "traceback": [
      "\u001b[0;31m---------------------------------------------------------------------------\u001b[0m",
      "\u001b[0;31mAttributeError\u001b[0m                            Traceback (most recent call last)",
      "\u001b[0;32m<ipython-input-29-14634fed5262>\u001b[0m in \u001b[0;36m<module>\u001b[0;34m\u001b[0m\n\u001b[1;32m      3\u001b[0m \u001b[0;34m\u001b[0m\u001b[0m\n\u001b[1;32m      4\u001b[0m \u001b[0;31m# df = spark.createDataFrame([('ab12cd',)], ['s',])\u001b[0m\u001b[0;34m\u001b[0m\u001b[0;34m\u001b[0m\u001b[0;34m\u001b[0m\u001b[0m\n\u001b[0;32m----> 5\u001b[0;31m \u001b[0mget_feature_from_text\u001b[0m\u001b[0;34m(\u001b[0m\u001b[0mclean_df\u001b[0m\u001b[0;34m)\u001b[0m\u001b[0;34m.\u001b[0m\u001b[0mshow\u001b[0m\u001b[0;34m(\u001b[0m\u001b[0;34m)\u001b[0m\u001b[0;34m\u001b[0m\u001b[0;34m\u001b[0m\u001b[0m\n\u001b[0m",
      "\u001b[0;32m<ipython-input-29-14634fed5262>\u001b[0m in \u001b[0;36mget_feature_from_text\u001b[0;34m(df)\u001b[0m\n\u001b[1;32m      1\u001b[0m \u001b[0;32mdef\u001b[0m \u001b[0mget_feature_from_text\u001b[0m\u001b[0;34m(\u001b[0m\u001b[0mdf\u001b[0m\u001b[0;34m)\u001b[0m\u001b[0;34m:\u001b[0m\u001b[0;34m\u001b[0m\u001b[0;34m\u001b[0m\u001b[0m\n\u001b[0;32m----> 2\u001b[0;31m     \u001b[0;32mreturn\u001b[0m \u001b[0mdf\u001b[0m\u001b[0;34m.\u001b[0m\u001b[0mselect\u001b[0m\u001b[0;34m(\u001b[0m\u001b[0msplit\u001b[0m\u001b[0;34m(\u001b[0m\u001b[0mdf\u001b[0m\u001b[0;34m.\u001b[0m\u001b[0ms\u001b[0m\u001b[0;34m,\u001b[0m \u001b[0;34m'[0-9]+'\u001b[0m\u001b[0;34m)\u001b[0m\u001b[0;34m.\u001b[0m\u001b[0malias\u001b[0m\u001b[0;34m(\u001b[0m\u001b[0;34m'text'\u001b[0m\u001b[0;34m)\u001b[0m\u001b[0;34m)\u001b[0m\u001b[0;34m\u001b[0m\u001b[0;34m\u001b[0m\u001b[0m\n\u001b[0m\u001b[1;32m      3\u001b[0m \u001b[0;34m\u001b[0m\u001b[0m\n\u001b[1;32m      4\u001b[0m \u001b[0;31m# df = spark.createDataFrame([('ab12cd',)], ['s',])\u001b[0m\u001b[0;34m\u001b[0m\u001b[0;34m\u001b[0m\u001b[0;34m\u001b[0m\u001b[0m\n\u001b[1;32m      5\u001b[0m \u001b[0mget_feature_from_text\u001b[0m\u001b[0;34m(\u001b[0m\u001b[0mclean_df\u001b[0m\u001b[0;34m)\u001b[0m\u001b[0;34m.\u001b[0m\u001b[0mshow\u001b[0m\u001b[0;34m(\u001b[0m\u001b[0;34m)\u001b[0m\u001b[0;34m\u001b[0m\u001b[0;34m\u001b[0m\u001b[0m\n",
      "\u001b[0;32m/usr/local/spark/python/pyspark/sql/dataframe.py\u001b[0m in \u001b[0;36m__getattr__\u001b[0;34m(self, name)\u001b[0m\n\u001b[1;32m   1298\u001b[0m         \u001b[0;32mif\u001b[0m \u001b[0mname\u001b[0m \u001b[0;32mnot\u001b[0m \u001b[0;32min\u001b[0m \u001b[0mself\u001b[0m\u001b[0;34m.\u001b[0m\u001b[0mcolumns\u001b[0m\u001b[0;34m:\u001b[0m\u001b[0;34m\u001b[0m\u001b[0;34m\u001b[0m\u001b[0m\n\u001b[1;32m   1299\u001b[0m             raise AttributeError(\n\u001b[0;32m-> 1300\u001b[0;31m                 \"'%s' object has no attribute '%s'\" % (self.__class__.__name__, name))\n\u001b[0m\u001b[1;32m   1301\u001b[0m         \u001b[0mjc\u001b[0m \u001b[0;34m=\u001b[0m \u001b[0mself\u001b[0m\u001b[0;34m.\u001b[0m\u001b[0m_jdf\u001b[0m\u001b[0;34m.\u001b[0m\u001b[0mapply\u001b[0m\u001b[0;34m(\u001b[0m\u001b[0mname\u001b[0m\u001b[0;34m)\u001b[0m\u001b[0;34m\u001b[0m\u001b[0;34m\u001b[0m\u001b[0m\n\u001b[1;32m   1302\u001b[0m         \u001b[0;32mreturn\u001b[0m \u001b[0mColumn\u001b[0m\u001b[0;34m(\u001b[0m\u001b[0mjc\u001b[0m\u001b[0;34m)\u001b[0m\u001b[0;34m\u001b[0m\u001b[0;34m\u001b[0m\u001b[0m\n",
      "\u001b[0;31mAttributeError\u001b[0m: 'DataFrame' object has no attribute 's'"
     ]
    }
   ],
   "source": [
    "def get_feature_from_text(df):\n",
    "    return df.select(split(df.s, '[0-9]+').alias('text'))\n",
    "\n",
    "# df = spark.createDataFrame([('ab12cd',)], ['s',])\n",
    "get_feature_from_text(clean_df).show()"
   ]
  },
  {
   "cell_type": "code",
   "execution_count": null,
   "metadata": {},
   "outputs": [],
   "source": []
  },
  {
   "cell_type": "code",
   "execution_count": null,
   "metadata": {},
   "outputs": [],
   "source": []
  },
  {
   "cell_type": "code",
   "execution_count": null,
   "metadata": {},
   "outputs": [],
   "source": []
  },
  {
   "cell_type": "code",
   "execution_count": null,
   "metadata": {},
   "outputs": [],
   "source": []
  },
  {
   "cell_type": "code",
   "execution_count": null,
   "metadata": {},
   "outputs": [],
   "source": []
  },
  {
   "cell_type": "code",
   "execution_count": 14,
   "metadata": {
    "scrolled": true
   },
   "outputs": [
    {
     "name": "stdout",
     "output_type": "stream",
     "text": [
      "+--------------------+-------------------+--------------------+--------------------+------+------+------+------+------+\n",
      "|                sha1|          timestamp|               title|                text|level2|level3|level4|level5|level6|\n",
      "+--------------------+-------------------+--------------------+--------------------+------+------+------+------+------+\n",
      "|42l0cvblwtb4nnupx...|2018-08-14 06:47:24| AccessibleComputing|#REDIRECT [[Compu...|     0|     0|     0|     0|     0|\n",
      "|2d0jpq2oi6jjc6hbb...|2019-06-16 00:28:20|           Anarchism|{{redirect2|Anarc...|    29|    16|     3|     0|     0|\n",
      "|iv7s0lr40b17x33tf...|2017-06-05 04:18:18|  AfghanistanHistory|#REDIRECT [[Histo...|     0|     0|     0|     0|     0|\n",
      "|39r4w8qg62iexlysk...|2017-06-05 04:18:23|AfghanistanGeography|#REDIRECT [[Geogr...|     0|     0|     0|     0|     0|\n",
      "|fncm9bh9l25bmvyzq...|2017-06-05 04:19:42|   AfghanistanPeople|#REDIRECT [[Demog...|     0|     0|     0|     0|     0|\n",
      "|q8gdi8070w6yitd4h...|2017-06-05 04:19:45|AfghanistanCommun...|#REDIRECT [[Commu...|     0|     0|     0|     0|     0|\n",
      "|miah0hk4ws6ctake8...|2017-06-04 21:42:11|AfghanistanTransp...|#REDIRECT [[Trans...|     0|     0|     0|     0|     0|\n",
      "|j013t2shx5j3p2gq4...|2017-06-04 21:43:11| AfghanistanMilitary|#REDIRECT [[Afgha...|     0|     0|     0|     0|     0|\n",
      "|80xx3tzgvcdioufir...|2017-06-04 21:43:14|AfghanistanTransn...|#REDIRECT [[Forei...|     0|     0|     0|     0|     0|\n",
      "|f0x0fdqkexsha1xdm...|2017-06-05 04:19:50| AssistiveTechnology|#REDIRECT [[Assis...|     0|     0|     0|     0|     0|\n",
      "|ehl9qk3qz207n09xw...|2017-06-05 04:19:55|        AmoeboidTaxa|#REDIRECT [[Amoeb...|     0|     0|     0|     0|     0|\n",
      "|2g74nk1fzt9rfdm1s...|2019-06-17 02:23:23|              Autism|{{about|the class...|    25|    12|     0|     0|     0|\n",
      "|rbhoo26ul5z7m8uw9...|2017-06-05 04:20:00|      AlbaniaHistory|#REDIRECT [[Histo...|     0|     0|     0|     0|     0|\n",
      "|hc34qmkw4yiceqh6y...|2017-06-05 04:20:05|       AlbaniaPeople|#REDIRECT [[Demog...|     0|     0|     0|     0|     0|\n",
      "|l902evpyqkgd67h0j...|2017-06-04 21:43:17|        AsWeMayThink|#REDIRECT [[As_We...|     0|     0|     0|     0|     0|\n",
      "|hnsv8s58ruj7rca9d...|2017-06-04 21:45:21|   AlbaniaGovernment|#REDIRECT [[Polit...|     0|     0|     0|     0|     0|\n",
      "|6rq9n647vsyp1nsed...|2017-06-04 21:45:23|      AlbaniaEconomy|#REDIRECT [[Econo...|     0|     0|     0|     0|     0|\n",
      "|gqn4tsulp9zynj90b...|2019-06-10 10:44:13|              Albedo|{{Other uses}}\n",
      "{{...|    19|    11|     0|     0|     0|\n",
      "|ickzq7h4e9kumn0f1...|2017-06-04 21:45:24|AfroAsiaticLanguages|#REDIRECT [[Afroa...|     0|     0|     0|     0|     0|\n",
      "|btmq5vs8ieulquadx...|2019-05-29 23:50:04|  ArtificalLanguages|#REDIRECT [[Const...|     0|     0|     0|     0|     0|\n",
      "+--------------------+-------------------+--------------------+--------------------+------+------+------+------+------+\n",
      "only showing top 20 rows\n",
      "\n"
     ]
    }
   ],
   "source": [
    "from functools import reduce\n",
    "\n",
    "\"\"\"\n",
    "Headings counting\n",
    "Syntaxis:\n",
    "    ==Level 2==\n",
    "    ===Level 3===\n",
    "    ====Level 4====\n",
    "    =====Level 5=====\n",
    "    ======Level 6======\n",
    "\"\"\"\n",
    "\n",
    "def single_head_level_count(text, level):\n",
    "    assert level in range(2,7)\n",
    "    pattern = \"=\" * level\n",
    "    pattern = pattern + \"[a-zA-Z0-9.,!? ]+\" + pattern\n",
    "    return size(split(text, pattern=pattern))-1\n",
    "\n",
    "def count_headings(df):\n",
    "    return reduce(\n",
    "        lambda df, level: df.withColumn(\"level{}\".format(level),\n",
    "                                        single_head_level_count(col(\"text\"), level)),\n",
    "        range(2,7), df)\n",
    "    \n",
    "count_headings(clean_df).show(20)"
   ]
  },
  {
   "cell_type": "markdown",
   "metadata": {},
   "source": [
    "### below is WIP"
   ]
  },
  {
   "cell_type": "code",
   "execution_count": 15,
   "metadata": {},
   "outputs": [
    {
     "data": {
      "text/plain": [
       "'\\nWikipedia syntax\\nFont:\\n- \\'\\'italics\\'\\'\\n- \\'\\'\\'bold\\'\\'\\'\\n- \\'\\'\\'\\'\\'both\\'\\'\\'\\'\\'\\n- <s>stroke</s>\\n- <u>underlined</u>\\n- <!--comments-->\\n\\nImages:\\n    [[File: | thumb  | upright | right | alt= | caption ]]\\n    Example: [[File:Wiki.png|thumb|Caption]]\\n\\nInternal Links:\\n    [[A]] -- internal reference to an article titled A\\n    [[A|B]] -- internal reference to an article titled A (written as B)\\n    [[A#C|B]] -- internal reference to a section C of an article titled A (written as B)\\nExternal Links:\\n    https://www.google.com -- simple link\\n    [https://www.google.com] -- link (reference)\\n    [https://www.google.com A] -- reference written as A\\n    <ref name=\"B\">[https://www.google.com A]</ref> -- reference A written as B, can be referenced again like:\\n    <ref name=\"B\" /> -- reference to the source B\\n    <ref>Lots of words</ref> -- reference without a link\\n    {{sfnm|1a1=Craig|1y=2005|1p=14|2a1=Sheehan|2y=2003|2p=85}} -- external reference\\n    Example:\\n        {{sfnm|1a1=McLaughlin|1y=2007|1p=59|2a1=Flint|2y=2009|2p=27}} -- McLaughlin 2007, p. 59; Flint 2009, p. 27.\\n        {{sfnm|1a1=Craig|1y=2005|1p=14|2a1=Sheehan|2y=2003|2p=85}} -- Craig 2005, p. 14; Sheehan 2003, p. 85.\\n\\n{{reflist}} -- list of references\\n{{cn}} -- citation needed\\n\\n[[Category:Category name]]\\n[[:Category:Category name]]\\n[[:File:File name]]\\n'"
      ]
     },
     "execution_count": 15,
     "metadata": {},
     "output_type": "execute_result"
    }
   ],
   "source": [
    "\"\"\"\n",
    "Wikipedia syntax\n",
    "Font:\n",
    "- ''italics''\n",
    "- '''bold'''\n",
    "- '''''both'''''\n",
    "- <s>stroke</s>\n",
    "- <u>underlined</u>\n",
    "- <!--comments-->\n",
    "\n",
    "Images:\n",
    "    [[File: | thumb  | upright | right | alt= | caption ]]\n",
    "    Example: [[File:Wiki.png|thumb|Caption]]\n",
    "\n",
    "Internal Links:\n",
    "    [[A]] -- internal reference to an article titled A\n",
    "    [[A|B]] -- internal reference to an article titled A (written as B)\n",
    "    [[A#C|B]] -- internal reference to a section C of an article titled A (written as B)\n",
    "External Links:\n",
    "    https://www.google.com -- simple link\n",
    "    [https://www.google.com] -- link (reference)\n",
    "    [https://www.google.com A] -- reference written as A\n",
    "    <ref name=\"B\">[https://www.google.com A]</ref> -- reference A written as B, can be referenced again like:\n",
    "    <ref name=\"B\" /> -- reference to the source B\n",
    "    <ref>Lots of words</ref> -- reference without a link\n",
    "    {{sfnm|1a1=Craig|1y=2005|1p=14|2a1=Sheehan|2y=2003|2p=85}} -- external reference\n",
    "    Example:\n",
    "        {{sfnm|1a1=McLaughlin|1y=2007|1p=59|2a1=Flint|2y=2009|2p=27}} -- McLaughlin 2007, p. 59; Flint 2009, p. 27.\n",
    "        {{sfnm|1a1=Craig|1y=2005|1p=14|2a1=Sheehan|2y=2003|2p=85}} -- Craig 2005, p. 14; Sheehan 2003, p. 85.\n",
    "\n",
    "{{reflist}} -- list of references\n",
    "{{cn}} -- citation needed\n",
    "\n",
    "[[Category:Category name]]\n",
    "[[:Category:Category name]]\n",
    "[[:File:File name]]\n",
    "\"\"\""
   ]
  },
  {
   "cell_type": "code",
   "execution_count": 16,
   "metadata": {},
   "outputs": [
    {
     "data": {
      "text/plain": [
       "'\\nCite Web:\\n    <ref>{{cite web\\n    |url= \\n    |title= \\n    |author= \\n    |date= \\n    |work= \\n    |publisher= \\n    |accessdate=\\n    }}</ref>\\n\\nCite Journal:\\n    <ref>{{cite journal\\n    |last1= \\n    |first1=\\n    |last2=\\n    |first2=\\n    |year= \\n    |title=\\n    |journal= \\n    |volume= \\n    |issue= \\n    |pages= \\n    |publisher= \\n    |doi= \\n    |url=\\n    |accessdate= }}</ref>\\n    \\nCite Book (Short):\\n    <ref>{{cite book\\n    |last = \\n    |first = \\n    |authorlink = \\n    |title = \\n    |publisher = \\n    |series =  \\n    |year =  \\n    |doi = \\n    |isbn = \\n    }}</ref>\\n\\nCite Book (Extended):\\n    <ref>{{cite book\\n    | last       = \\n    | first      = \\n    | authorlink = \\n    | coauthors  = \\n    | editor        = \\n    | title         = \\n    | trans_title   = \\n    | url           = \\n    | accessdate    = \\n    | edition   = \\n    | series    = \\n    | volume    = \\n    | date      = \\n    | year      = \\n    | publisher = \\n    | location  = \\n    | isbn      = \\n    | doi       = \\n    | page      = \\n    | pages     = \\n    | chapter   = \\n    }}</ref>\\n    \\n'"
      ]
     },
     "execution_count": 16,
     "metadata": {},
     "output_type": "execute_result"
    }
   ],
   "source": [
    "\"\"\"\n",
    "Cite Web:\n",
    "    <ref>{{cite web\n",
    "    |url= \n",
    "    |title= \n",
    "    |author= \n",
    "    |date= \n",
    "    |work= \n",
    "    |publisher= \n",
    "    |accessdate=\n",
    "    }}</ref>\n",
    "\n",
    "Cite Journal:\n",
    "    <ref>{{cite journal\n",
    "    |last1= \n",
    "    |first1=\n",
    "    |last2=\n",
    "    |first2=\n",
    "    |year= \n",
    "    |title=\n",
    "    |journal= \n",
    "    |volume= \n",
    "    |issue= \n",
    "    |pages= \n",
    "    |publisher= \n",
    "    |doi= \n",
    "    |url=\n",
    "    |accessdate= }}</ref>\n",
    "    \n",
    "Cite Book (Short):\n",
    "    <ref>{{cite book\n",
    "    |last = \n",
    "    |first = \n",
    "    |authorlink = \n",
    "    |title = \n",
    "    |publisher = \n",
    "    |series =  \n",
    "    |year =  \n",
    "    |doi = \n",
    "    |isbn = \n",
    "    }}</ref>\n",
    "\n",
    "Cite Book (Extended):\n",
    "    <ref>{{cite book\n",
    "    | last       = \n",
    "    | first      = \n",
    "    | authorlink = \n",
    "    | coauthors  = \n",
    "    | editor        = \n",
    "    | title         = \n",
    "    | trans_title   = \n",
    "    | url           = \n",
    "    | accessdate    = \n",
    "    | edition   = \n",
    "    | series    = \n",
    "    | volume    = \n",
    "    | date      = \n",
    "    | year      = \n",
    "    | publisher = \n",
    "    | location  = \n",
    "    | isbn      = \n",
    "    | doi       = \n",
    "    | page      = \n",
    "    | pages     = \n",
    "    | chapter   = \n",
    "    }}</ref>\n",
    "    \n",
    "\"\"\""
   ]
  },
  {
   "cell_type": "code",
   "execution_count": null,
   "metadata": {},
   "outputs": [],
   "source": [
    "\"\"\"\n",
    "We need to remove:\n",
    "    {{Outdent|...}}\n",
    "    {{convert|...}}\n",
    "\"\"\""
   ]
  },
  {
   "cell_type": "code",
   "execution_count": 19,
   "metadata": {},
   "outputs": [
    {
     "data": {
      "text/plain": [
       "DataFrame[name: string, eye_color: string]"
      ]
     },
     "execution_count": 19,
     "metadata": {},
     "output_type": "execute_result"
    }
   ],
   "source": [
    "source_df"
   ]
  },
  {
   "cell_type": "code",
   "execution_count": 18,
   "metadata": {},
   "outputs": [
    {
     "name": "stdout",
     "output_type": "stream",
     "text": [
      "+----+---------+\n",
      "|name|eye_color|\n",
      "+----+---------+\n",
      "|Jose|     BLUE|\n",
      "|  lI|    BrOwN|\n",
      "+----+---------+\n",
      "\n",
      "None\n",
      "+----+---------+\n",
      "|name|eye_color|\n",
      "+----+---------+\n",
      "|jose|     blue|\n",
      "|  li|    brown|\n",
      "+----+---------+\n",
      "\n",
      "None\n"
     ]
    }
   ],
   "source": [
    "\n",
    "source_df = spark.createDataFrame(\n",
    "    [\n",
    "        (\"Jose\", \"BLUE\"),\n",
    "        (\"lI\", \"BrOwN\")\n",
    "    ],\n",
    "    [\"name\", \"eye_color\"]\n",
    ")\n",
    "\n",
    "actual_df = (reduce(\n",
    "    lambda df, col_name: df.withColumn(col_name, lower(col(col_name))),\n",
    "    source_df.columns,\n",
    "    source_df\n",
    "))\n",
    "\n",
    "print(source_df.show())\n",
    "print(actual_df.show())"
   ]
  },
  {
   "cell_type": "code",
   "execution_count": 21,
   "metadata": {},
   "outputs": [
    {
     "data": {
      "text/plain": [
       "DataFrame[_c0: int, comment: string, contributor: string, format: string, id: int, ip: string, model: string, ns: int, parentid: int, restrictions: string, revision: string, sha1: string, text: string, timestamp: timestamp, title: string, username: string]"
      ]
     },
     "execution_count": 21,
     "metadata": {},
     "output_type": "execute_result"
    }
   ],
   "source": [
    "df"
   ]
  },
  {
   "cell_type": "code",
   "execution_count": 20,
   "metadata": {},
   "outputs": [
    {
     "ename": "AttributeError",
     "evalue": "'DataFrame' object has no attribute 's'",
     "output_type": "error",
     "traceback": [
      "\u001b[0;31m---------------------------------------------------------------------------\u001b[0m",
      "\u001b[0;31mAttributeError\u001b[0m                            Traceback (most recent call last)",
      "\u001b[0;32m<ipython-input-20-f3dd1e1eaf6c>\u001b[0m in \u001b[0;36m<module>\u001b[0;34m\u001b[0m\n\u001b[1;32m      3\u001b[0m \u001b[0;34m\u001b[0m\u001b[0m\n\u001b[1;32m      4\u001b[0m \u001b[0;31m# df = spark.createDataFrame([('ab12cd',)], ['s',])\u001b[0m\u001b[0;34m\u001b[0m\u001b[0;34m\u001b[0m\u001b[0;34m\u001b[0m\u001b[0m\n\u001b[0;32m----> 5\u001b[0;31m \u001b[0mget_feature_from_text\u001b[0m\u001b[0;34m(\u001b[0m\u001b[0mdf\u001b[0m\u001b[0;34m)\u001b[0m\u001b[0;34m.\u001b[0m\u001b[0mshow\u001b[0m\u001b[0;34m(\u001b[0m\u001b[0;34m)\u001b[0m\u001b[0;34m\u001b[0m\u001b[0;34m\u001b[0m\u001b[0m\n\u001b[0m\u001b[1;32m      6\u001b[0m \u001b[0;31m# df.show()\u001b[0m\u001b[0;34m\u001b[0m\u001b[0;34m\u001b[0m\u001b[0;34m\u001b[0m\u001b[0m\n",
      "\u001b[0;32m<ipython-input-20-f3dd1e1eaf6c>\u001b[0m in \u001b[0;36mget_feature_from_text\u001b[0;34m(df)\u001b[0m\n\u001b[1;32m      1\u001b[0m \u001b[0;32mdef\u001b[0m \u001b[0mget_feature_from_text\u001b[0m\u001b[0;34m(\u001b[0m\u001b[0mdf\u001b[0m\u001b[0;34m)\u001b[0m\u001b[0;34m:\u001b[0m\u001b[0;34m\u001b[0m\u001b[0;34m\u001b[0m\u001b[0m\n\u001b[0;32m----> 2\u001b[0;31m     \u001b[0;32mreturn\u001b[0m \u001b[0mdf\u001b[0m\u001b[0;34m.\u001b[0m\u001b[0mselect\u001b[0m\u001b[0;34m(\u001b[0m\u001b[0msplit\u001b[0m\u001b[0;34m(\u001b[0m\u001b[0mdf\u001b[0m\u001b[0;34m.\u001b[0m\u001b[0ms\u001b[0m\u001b[0;34m,\u001b[0m \u001b[0;34m'[0-9]+'\u001b[0m\u001b[0;34m)\u001b[0m\u001b[0;34m.\u001b[0m\u001b[0malias\u001b[0m\u001b[0;34m(\u001b[0m\u001b[0;34m's'\u001b[0m\u001b[0;34m)\u001b[0m\u001b[0;34m)\u001b[0m\u001b[0;34m\u001b[0m\u001b[0;34m\u001b[0m\u001b[0m\n\u001b[0m\u001b[1;32m      3\u001b[0m \u001b[0;34m\u001b[0m\u001b[0m\n\u001b[1;32m      4\u001b[0m \u001b[0;31m# df = spark.createDataFrame([('ab12cd',)], ['s',])\u001b[0m\u001b[0;34m\u001b[0m\u001b[0;34m\u001b[0m\u001b[0;34m\u001b[0m\u001b[0m\n\u001b[1;32m      5\u001b[0m \u001b[0mget_feature_from_text\u001b[0m\u001b[0;34m(\u001b[0m\u001b[0mdf\u001b[0m\u001b[0;34m)\u001b[0m\u001b[0;34m.\u001b[0m\u001b[0mshow\u001b[0m\u001b[0;34m(\u001b[0m\u001b[0;34m)\u001b[0m\u001b[0;34m\u001b[0m\u001b[0;34m\u001b[0m\u001b[0m\n",
      "\u001b[0;32m/usr/local/spark/python/pyspark/sql/dataframe.py\u001b[0m in \u001b[0;36m__getattr__\u001b[0;34m(self, name)\u001b[0m\n\u001b[1;32m   1298\u001b[0m         \u001b[0;32mif\u001b[0m \u001b[0mname\u001b[0m \u001b[0;32mnot\u001b[0m \u001b[0;32min\u001b[0m \u001b[0mself\u001b[0m\u001b[0;34m.\u001b[0m\u001b[0mcolumns\u001b[0m\u001b[0;34m:\u001b[0m\u001b[0;34m\u001b[0m\u001b[0;34m\u001b[0m\u001b[0m\n\u001b[1;32m   1299\u001b[0m             raise AttributeError(\n\u001b[0;32m-> 1300\u001b[0;31m                 \"'%s' object has no attribute '%s'\" % (self.__class__.__name__, name))\n\u001b[0m\u001b[1;32m   1301\u001b[0m         \u001b[0mjc\u001b[0m \u001b[0;34m=\u001b[0m \u001b[0mself\u001b[0m\u001b[0;34m.\u001b[0m\u001b[0m_jdf\u001b[0m\u001b[0;34m.\u001b[0m\u001b[0mapply\u001b[0m\u001b[0;34m(\u001b[0m\u001b[0mname\u001b[0m\u001b[0;34m)\u001b[0m\u001b[0;34m\u001b[0m\u001b[0;34m\u001b[0m\u001b[0m\n\u001b[1;32m   1302\u001b[0m         \u001b[0;32mreturn\u001b[0m \u001b[0mColumn\u001b[0m\u001b[0;34m(\u001b[0m\u001b[0mjc\u001b[0m\u001b[0;34m)\u001b[0m\u001b[0;34m\u001b[0m\u001b[0;34m\u001b[0m\u001b[0m\n",
      "\u001b[0;31mAttributeError\u001b[0m: 'DataFrame' object has no attribute 's'"
     ]
    }
   ],
   "source": [
    "def get_feature_from_text(df):\n",
    "    return df.select(split(df.s, '[0-9]+').alias('s'))\n",
    "\n",
    "# df = spark.createDataFrame([('ab12cd',)], ['s',])\n",
    "get_feature_from_text(df).show()\n",
    "# df.show()"
   ]
  },
  {
   "cell_type": "code",
   "execution_count": 22,
   "metadata": {},
   "outputs": [],
   "source": [
    "def clean_text(c):\n",
    "#     c = lower(c)\n",
    "#     c = regexp_replace(c, \"[^a-zA-Z0-9\\\\s]\", \"\")\n",
    "#     c = split(c, \"\\\\n+\")\n",
    "    c = split(c, \"====\")\n",
    "    return size(c)\n",
    "\n",
    "# clean_df.select(clean_text(col(\"text\")).alias(\"num_paragraphs\")).show(4, truncate=False)\n",
    "# \n",
    "# clean_df.printSchema()\n",
    "# clean_df.select(\"text\").map()#clean_text).show(10)\n",
    "# clean_df.withColumn(\"test\", clean_df.text[0]).select(\"test\").show(5)"
   ]
  },
  {
   "cell_type": "code",
   "execution_count": 23,
   "metadata": {
    "scrolled": true
   },
   "outputs": [
    {
     "name": "stdout",
     "output_type": "stream",
     "text": [
      "['comment', 'contributor', 'format', 'id', 'ip', 'model', 'ns', 'parentid', 'restrictions', 'revision', 'sha1', 'text', 'timestamp', 'title', 'username']\n",
      "\n",
      "\n",
      "ARTICLE 1 | Anarchism\n",
      "> Text:\n",
      " {{redirect2|Anarchist|Anarchists|other uses|Anarchists (disambiguation)}}\n",
      "{{pp-move-indef}}{{short description|Political philosophy that advocates self-governed societies}}\n",
      "{{use dmy dates|date=July 2018}}\n",
      "{{use British English|date=January 2014}}\n",
      "{{anarchism sidebar}}\n",
      "\n",
      "\n",
      "ARTICLE 2 | AfghanistanHistory\n",
      "> Text:\n",
      " #REDIRECT [[History of Afghanistan]]\n",
      "\n",
      "{{Redirect category shell|1=\n",
      "{{R from CamelCase}}\n",
      "}}\n",
      "\n",
      "\n",
      "ARTICLE 3 | AfghanistanGeography\n",
      "> Text:\n",
      " #REDIRECT [[Geography of Afghanistan]]\n",
      "\n",
      "{{Redirect category shell|1=\n",
      "{{R from CamelCase}}\n",
      "}}\n",
      "\n",
      "\n",
      "ARTICLE 4 | AfghanistanPeople\n",
      "> Text:\n",
      " #REDIRECT [[Demographics of Afghanistan]]\n",
      "\n",
      "{{Redirect category shell|1=\n",
      "{{R from CamelCase}}\n",
      "}}\n"
     ]
    }
   ],
   "source": [
    "def get_features_from_text(text):\n",
    "    textFile = spark.read.text(text)\n",
    "#     features = pd.Series()\n",
    "#     features[\"redirect\"] = text[:9] == \"#REDIRECT\"\n",
    "#     return features\n",
    "    return textFile\n",
    "\n",
    "print(list(pdf.columns))\n",
    "\n",
    "\n",
    "# for row in df.iterrows():\n",
    "for i in range(1,5):\n",
    "    row = pdf.loc[i]\n",
    "    print(\"\\n\\nARTICLE\", i, \"|\", row[\"title\"])\n",
    "#     print(\"> Comment:\", row[\"comment\"])\n",
    "#     print(\"> User:\", row[\"username\"])\n",
    "#     print(row[\"ns\"])\n",
    "    print(\"> Text:\\n\", \"\\n\".join(row[\"text\"].split('\\n')[:5]))\n",
    "#     print(\"> Features:\\n\", get_features_from_text(row[\"text\"]))"
   ]
  },
  {
   "cell_type": "markdown",
   "metadata": {},
   "source": [
    "### Clustering"
   ]
  },
  {
   "cell_type": "code",
   "execution_count": 11,
   "metadata": {},
   "outputs": [],
   "source": [
    "# from pyspark.ml.clustering import BisectingKMeans\n",
    "\n",
    "# # Loads data.\n",
    "# dataset = spark.read.format(\"libsvm\").load(\"sample_kmeans_data.txt\")\n",
    "\n",
    "# # Trains a bisecting k-means model.\n",
    "# bkm = BisectingKMeans().setK(2).setSeed(1)\n",
    "# model = bkm.fit(dataset)\n",
    "\n",
    "# # Evaluate clustering.\n",
    "# cost = model.computeCost(dataset)\n",
    "# print(\"Within Set Sum of Squared Errors = \" + str(cost))\n",
    "\n",
    "# # Shows the result.\n",
    "# print(\"Cluster Centers: \")\n",
    "# centers = model.clusterCenters()\n",
    "# for center in centers:\n",
    "#     print(center)"
   ]
  },
  {
   "cell_type": "code",
   "execution_count": null,
   "metadata": {},
   "outputs": [],
   "source": [
    "spark.stop()"
   ]
  }
 ],
 "metadata": {
  "kernelspec": {
   "display_name": "Python 3",
   "language": "python",
   "name": "python3"
  },
  "language_info": {
   "codemirror_mode": {
    "name": "ipython",
    "version": 3
   },
   "file_extension": ".py",
   "mimetype": "text/x-python",
   "name": "python",
   "nbconvert_exporter": "python",
   "pygments_lexer": "ipython3",
   "version": "3.7.3"
  },
  "toc": {
   "nav_menu": {},
   "number_sections": true,
   "sideBar": true,
   "skip_h1_title": false,
   "toc_cell": false,
   "toc_position": {},
   "toc_section_display": "block",
   "toc_window_display": false
  }
 },
 "nbformat": 4,
 "nbformat_minor": 2
}
