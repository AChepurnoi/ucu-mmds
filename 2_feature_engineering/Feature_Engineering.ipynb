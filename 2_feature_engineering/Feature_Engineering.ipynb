{
 "cells": [
  {
   "cell_type": "code",
   "execution_count": 3,
   "metadata": {},
   "outputs": [],
   "source": [
    "import os\n",
    "import numpy as np\n",
    "\n",
    "import findspark\n",
    "try:\n",
    "    findspark.init()\n",
    "except:\n",
    "    PYSPARK_PATH = '../spark/spark-2.4.3-bin-hadoop2.7/' # change path to yours\n",
    "    findspark.init(PYSPARK_PATH)\n",
    "import pyspark\n",
    "from pyspark.sql import SparkSession\n",
    "spark = SparkSession.builder.getOrCreate()\n",
    "\n",
    "from pyspark.sql import *\n",
    "from pyspark.sql.functions import col, lower, regexp_replace, split, size, UserDefinedFunction\n",
    "from pyspark.sql.types import StringType, IntegerType\n",
    "from functools import reduce\n",
    "import re"
   ]
  },
  {
   "cell_type": "code",
   "execution_count": 5,
   "metadata": {},
   "outputs": [],
   "source": [
    "df_path = \"csv_data/top-10-sample-output-ores.csv\"\n",
    "# df_path = \"csv_data/sample-output-ores.csv\"\n",
    "df_out_path = \"{}_features.csv\".format(df_path[:-4])\n",
    "df = spark.read.csv(df_path, inferSchema=True, header=True, multiLine=True, escape='\"')"
   ]
  },
  {
   "cell_type": "code",
   "execution_count": 6,
   "metadata": {},
   "outputs": [
    {
     "name": "stdout",
     "output_type": "stream",
     "text": [
      "All columns: ['_c0', 'Unnamed: 0.1', 'comment', 'contributor', 'format', 'id', 'ip', 'model', 'ns', 'parentid', 'restrictions', 'revision', 'sha1', 'text', 'timestamp', 'title', 'username', 'revid', 'B', 'C', 'FA', 'GA', 'Start', 'Stub']\n",
      "Unique values for..\n",
      "\t format : ['text/x-wiki']\n",
      "\t model : ['wikitext']\n",
      "\t ns : [0]\n",
      "\t contributor : ['  ']\n",
      "\t revision : ['         ', '          ']\n",
      "\t restrictions : [None]\n",
      "Useful columns: ['sha1', 'timestamp', 'title', 'text', 'Stub', 'Start', 'C', 'B', 'GA', 'FA']\n"
     ]
    }
   ],
   "source": [
    "\"\"\"\n",
    "Columns filtering\n",
    "    Useful: sha1 (as identifier),  timestamp, title, text\n",
    "    Questionable: user, comment, ip, id (there are different articles with the same id), parentid, restrictions\n",
    "    Not useful (no unique info): model, format, ns, contributor, revision, restrictions\n",
    "\"\"\" \n",
    "\n",
    "print(\"All columns:\", df.columns)\n",
    "print(\"Unique values for..\")\n",
    "for column in [\"format\", \"model\", \"ns\", \"contributor\", \"revision\", \"restrictions\"]:\n",
    "    print(\"\\t\", column, \":\", df.select(column).distinct().rdd.map(lambda r: r[0]).collect())\n",
    "    \n",
    "ores_weights = {'Stub': 1, 'Start': 2, 'C': 3, 'B': 4, 'GA': 5, 'FA': 6}\n",
    "ores_scores = list(ores_weights.keys())\n",
    "useful_columns = [\"sha1\", \"timestamp\", \"title\", \"text\"] + ores_scores\n",
    "print(\"Useful columns:\", useful_columns)"
   ]
  },
  {
   "cell_type": "code",
   "execution_count": 7,
   "metadata": {},
   "outputs": [
    {
     "name": "stdout",
     "output_type": "stream",
     "text": [
      "root\n",
      " |-- sha1: string (nullable = true)\n",
      " |-- timestamp: timestamp (nullable = true)\n",
      " |-- title: string (nullable = true)\n",
      " |-- text: string (nullable = true)\n",
      " |-- Stub: double (nullable = true)\n",
      " |-- Start: double (nullable = true)\n",
      " |-- C: double (nullable = true)\n",
      " |-- B: double (nullable = true)\n",
      " |-- GA: double (nullable = true)\n",
      " |-- FA: double (nullable = true)\n",
      "\n",
      "Size of the DataFrame: 10 records\n"
     ]
    }
   ],
   "source": [
    "clean_df = df[useful_columns]\n",
    "clean_df.printSchema()\n",
    "print(\"Size of the DataFrame: {} records\".format(clean_df.count()))"
   ]
  },
  {
   "cell_type": "code",
   "execution_count": 8,
   "metadata": {},
   "outputs": [],
   "source": [
    "df_features = clean_df"
   ]
  },
  {
   "cell_type": "code",
   "execution_count": 9,
   "metadata": {},
   "outputs": [],
   "source": [
    "def words_counts(df):\n",
    "    return df.withColumn('n_words', size(split(col('text'), ' ')))\n",
    "\n",
    "df_features = words_counts(df_features)"
   ]
  },
  {
   "cell_type": "code",
   "execution_count": 10,
   "metadata": {},
   "outputs": [],
   "source": [
    "\"\"\"\n",
    "Headings counting\n",
    "Syntaxis:\n",
    "    ==Level 2==\n",
    "    ===Level 3===\n",
    "    ====Level 4====\n",
    "    =====Level 5=====\n",
    "    ======Level 6======\n",
    "\"\"\"\n",
    "\n",
    "def single_head_level_count(text, level):\n",
    "    assert level in range(2,7)\n",
    "    pattern = \"=\" * level\n",
    "    pattern = pattern + \"[a-zA-Z0-9.,!? ]+\" + pattern\n",
    "    return size(split(text, pattern=pattern))-1\n",
    "\n",
    "def count_headings(df):\n",
    "    return reduce(\n",
    "        lambda df, level: df.withColumn(\"level{}\".format(level),\n",
    "                                        single_head_level_count(col(\"text\"), level)),\n",
    "        range(2,7), df)\n",
    "    \n",
    "df_features = count_headings(df_features)"
   ]
  },
  {
   "cell_type": "code",
   "execution_count": 166,
   "metadata": {},
   "outputs": [],
   "source": [
    "\"\"\"\n",
    "Citation counting\n",
    "Syntaxis:\n",
    "    {{cite {book}(.*?)}}\n",
    "    {{cite {journal}(.*?)}}\n",
    "\"\"\"\n",
    "\n",
    "def citation_counter(citation_source):\n",
    "    def _count_citations(text):\n",
    "        matches = re.findall(f\"{{cite {citation_source}(.*?)}}\", text, re.IGNORECASE)\n",
    "        return len(matches)\n",
    "    return _count_citations\n",
    "\n",
    "book_citations_count = UserDefinedFunction(citation_counter(\"book\"), IntegerType())\n",
    "journal_citations_count = UserDefinedFunction(citation_counter(\"journal\"), IntegerType())\n",
    "\n",
    "df_features = df_features.withColumn(\"book_citations\", book_citations_count(\"text\"))\\\n",
    "  .withColumn(\"journal_citations\", journal_citations_count(\"text\"))"
   ]
  },
  {
   "cell_type": "code",
   "execution_count": 167,
   "metadata": {},
   "outputs": [],
   "source": [
    "'''Internal Links:\n",
    "    [[A]] -- internal reference to an article titled A\n",
    "    [[A|B]] -- internal reference to an article titled A (written as B)\n",
    "    [[A#C|B]] -- internal reference to a section C of an article titled A (written as B)'''\n",
    "\n",
    "def count_internal_links(df):\n",
    "    \n",
    "    pattern = \"\\[\\[[a-zA-Z0-9.,!? ]+\\]\\]\"\n",
    "    pattern += \"|\\[\\[[a-zA-Z0-9.,!? ]+\\|[a-zA-Z0-9.,!? ]+\\]\\]\"\n",
    "    pattern += \"|\\[\\[[a-zA-Z0-9.,!? ]+#[a-zA-Z0-9.,!? ]+\\|[a-zA-Z0-9.,!? ]+\\]\\]\"\n",
    "    \n",
    "    return df.withColumn(\"n_internal_links\",\n",
    "                         size(split(col('text'), pattern=pattern))-1)\n",
    "\n",
    "df_features = count_internal_links(df_features)"
   ]
  },
  {
   "cell_type": "code",
   "execution_count": 168,
   "metadata": {},
   "outputs": [],
   "source": [
    "'''External Links:\n",
    "    https://www.google.com -- simple link\n",
    "    [https://www.google.com] -- link (reference)\n",
    "    [https://www.google.com A] -- reference written as A\n",
    "    <ref name=\"B\">[https://www.google.com A]</ref> -- reference A written as B, can be referenced again like:\n",
    "    <ref name=\"B\" /> -- reference to the source B\n",
    "    <ref>Lots of words</ref> -- reference without a link\n",
    "    {{sfnm|1a1=Craig|1y=2005|1p=14|2a1=Sheehan|2y=2003|2p=85}} -- external reference\n",
    "    Example:\n",
    "        {{sfnm|1a1=McLaughlin|1y=2007|1p=59|2a1=Flint|2y=2009|2p=27}} -- McLaughlin 2007, p. 59; Flint 2009, p. 27.\n",
    "        {{sfnm|1a1=Craig|1y=2005|1p=14|2a1=Sheehan|2y=2003|2p=85}} -- Craig 2005, p. 14; Sheehan 2003, p. 85.'''\n",
    "\n",
    "def count_external_links(df):\n",
    "    \n",
    "    pattern = 'https?://(?:[-\\w.]|(?:%[\\da-fA-F]{2}))+'\n",
    "    pattern += '|\\[https?://(?:[-\\w.]|(?:%[\\da-fA-F]{2}))+\\]'\n",
    "    pattern += '|\\[https?://(?:[-\\w.]|(?:%[\\da-fA-F]{2}))+\\ [a-zA-Z0-9.,!? ]+]'\n",
    "    pattern += '<ref name=\"[a-zA-Z0-9.,!? ]+\">\\[https?://(?:[-\\w.]|(?:%[\\da-fA-F]{2}))+\\]'\n",
    "    \n",
    "    # template of the external reference\n",
    "    #template = '\\{\\{sfnm\\|1a1=[a-zA-Z]+\\|1y=[0-9]+\\|1p=[0-9]+\\|2a1=[a-zA-Z]+\\|2y=[0-9]+\\|2p=[0-9]+\\}\\}'\n",
    "    \n",
    "    # <ref name=\"B\" /> - this form use information from other reference, so we didn't count it again\n",
    "    # <ref>Lots of words</ref> - reference without a link will be in the other feature\n",
    "    \n",
    "    return df.withColumn(\"n_external_links\",\n",
    "                         size(split(col('text'), pattern=pattern))-1)\n",
    "\n",
    "df_features = count_external_links(df_features)"
   ]
  },
  {
   "cell_type": "code",
   "execution_count": 169,
   "metadata": {},
   "outputs": [],
   "source": [
    "\"\"\"\n",
    "Paragraphs\n",
    "\"\"\"\n",
    "\n",
    "def count_paragraphs(df):\n",
    "    \n",
    "    # filter the basic wikipedia syntaxis\n",
    "    pattern_filtering = '\\n\\n\\{\\{.*\\}\\}\\n\\n|\\n\\n\\[\\[.*\\]\\]\\n\\n|\\n\\n={1,7}.*={1,7}\\n\\n'\n",
    "    # split by two enters\n",
    "    pattern_splitting = '\\n\\n'\n",
    "\n",
    "    return df.withColumn('n_paragraphs', size(split(regexp_replace(col('text'), \n",
    "                                                                   pattern_filtering, ''), \n",
    "                                                    pattern_splitting))-1)\n",
    "\n",
    "df_features = count_paragraphs(df_features)"
   ]
  },
  {
   "cell_type": "code",
   "execution_count": 170,
   "metadata": {},
   "outputs": [],
   "source": [
    "'''<ref>Lots of words</ref> -- reference without a link\n",
    "{{cn}} -- citation needed'''\n",
    "\n",
    "def count_unreferenced(df):\n",
    "    \n",
    "    # citation needed and references without link\n",
    "    pattern = '\\{\\{cn\\}\\}|<ref>[a-zA-Z0-9.,!? ]+</ref>'\n",
    "    \n",
    "    return df.withColumn('n_unreferenced', size(split(col('text'), pattern))-1)\n",
    "\n",
    "df_features = count_unreferenced(df_features)"
   ]
  },
  {
   "cell_type": "code",
   "execution_count": 171,
   "metadata": {},
   "outputs": [],
   "source": [
    "'''[[Category:Category name]]\n",
    "[[:Category:Category name]]\n",
    "[[:File:File name]]'''\n",
    "\n",
    "def count_categories(df):\n",
    "    \n",
    "    #using template\n",
    "    pattern = '\\[\\[:?Category:[a-zA-Z0-9.,\\-!?\\(\\) ]+\\]\\]'\n",
    "    \n",
    "    return df.withColumn('n_categories', size(split(col('text'), pattern))-1)\n",
    "\n",
    "df_features = count_categories(df_features)"
   ]
  },
  {
   "cell_type": "code",
   "execution_count": 172,
   "metadata": {},
   "outputs": [],
   "source": [
    "'''\n",
    "    [[File: | thumb  | upright | right | alt= | caption ]]\n",
    "'''\n",
    "\n",
    "def count_of_images(df):\n",
    "    any_text = \"[a-zA-Z0-9.,!? ]+ \\] \"\n",
    "    pattern = \"\\[[a-zA-Z0-9.,!? ]+\\|[a-zA-Z0-9.,!? ]+\\|[a-zA-Z0-9.,!? ]+\\|[a-zA-Z0-9.,!? ]+\\|[a-zA-Z0-9.,!? ]+\\|[a-zA-Z0-9.,!? ]+\\|[a-zA-Z0-9.,!? ]+\\|[a-zA-Z0-9.,!? ]+\\]\"\n",
    "    return df.withColumn(\"n_images\", size(split(col('text'), pattern=pattern))-1)\n",
    "\n",
    "df_features = count_of_images(df_features)"
   ]
  },
  {
   "cell_type": "code",
   "execution_count": 20,
   "metadata": {},
   "outputs": [],
   "source": [
    "features_names = ['title',\n",
    "                  'Stub',\n",
    "                  'Start',\n",
    "                  'C',\n",
    "                  'B',\n",
    "                  'GA',\n",
    "                  'FA',\n",
    "                  'n_words',\n",
    "                  'level2',\n",
    "                  'level3',\n",
    "                  'level4',\n",
    "                  'level5',\n",
    "                  'level6',\n",
    "                  'book_citations',\n",
    "                  'journal_citations',\n",
    "                  'n_internal_links',\n",
    "                  'n_external_links',\n",
    "                  'n_paragraphs',\n",
    "                  'n_unreferenced',\n",
    "                  'n_categories',\n",
    "                  'n_images'\n",
    "                 ]\n",
    "\n",
    "df_features = df_features.select(list(map(lambda x: df_features[x].cast('double') if x != 'title' else df_features[x], \n",
    "                                          features_names)))"
   ]
  },
  {
   "cell_type": "code",
   "execution_count": 21,
   "metadata": {},
   "outputs": [
    {
     "name": "stdout",
     "output_type": "stream",
     "text": [
      "root\n",
      " |-- title: string (nullable = true)\n",
      " |-- Stub: double (nullable = true)\n",
      " |-- Start: double (nullable = true)\n",
      " |-- C: double (nullable = true)\n",
      " |-- B: double (nullable = true)\n",
      " |-- GA: double (nullable = true)\n",
      " |-- FA: double (nullable = true)\n",
      " |-- n_words: double (nullable = false)\n",
      " |-- level2: double (nullable = false)\n",
      " |-- level3: double (nullable = false)\n",
      " |-- level4: double (nullable = false)\n",
      " |-- level5: double (nullable = false)\n",
      " |-- level6: double (nullable = false)\n",
      " |-- book_citations: double (nullable = true)\n",
      " |-- journal_citations: double (nullable = true)\n",
      " |-- n_internal_links: double (nullable = false)\n",
      " |-- n_external_links: double (nullable = false)\n",
      " |-- n_paragraphs: double (nullable = false)\n",
      " |-- n_unreferenced: double (nullable = false)\n",
      " |-- n_categories: double (nullable = false)\n",
      " |-- n_images: double (nullable = false)\n",
      "\n"
     ]
    }
   ],
   "source": [
    "df_features.printSchema()"
   ]
  },
  {
   "cell_type": "code",
   "execution_count": 23,
   "metadata": {},
   "outputs": [],
   "source": [
    "for feature in features_names:\n",
    "    df_features = df_features.filter(df_features[feature].isNotNull())"
   ]
  },
  {
   "cell_type": "code",
   "execution_count": 24,
   "metadata": {},
   "outputs": [],
   "source": [
    "df_features.toPandas().to_csv(df_out_path)"
   ]
  }
 ],
 "metadata": {
  "kernelspec": {
   "display_name": "Python 3",
   "language": "python",
   "name": "python3"
  },
  "language_info": {
   "codemirror_mode": {
    "name": "ipython",
    "version": 3
   },
   "file_extension": ".py",
   "mimetype": "text/x-python",
   "name": "python",
   "nbconvert_exporter": "python",
   "pygments_lexer": "ipython3",
   "version": "3.7.3"
  },
  "toc": {
   "nav_menu": {},
   "number_sections": true,
   "sideBar": true,
   "skip_h1_title": false,
   "toc_cell": false,
   "toc_position": {},
   "toc_section_display": "block",
   "toc_window_display": false
  }
 },
 "nbformat": 4,
 "nbformat_minor": 2
}
