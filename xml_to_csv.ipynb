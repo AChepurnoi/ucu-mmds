{
 "cells": [
  {
   "cell_type": "code",
   "execution_count": 9,
   "metadata": {},
   "outputs": [],
   "source": [
    "import tqdm\n",
    "import pandas as pd\n",
    "from lxml import etree\n",
    "import resource"
   ]
  },
  {
   "cell_type": "code",
   "execution_count": 10,
   "metadata": {},
   "outputs": [],
   "source": [
    "XML_FILE = \"xml_data/sample.xml\"\n",
    "CSV_OUTPUT = \"csv_data/sample-output.csv\""
   ]
  },
  {
   "cell_type": "code",
   "execution_count": 11,
   "metadata": {},
   "outputs": [],
   "source": [
    "def strip_tag_name(t):\n",
    "    t = t.tag\n",
    "    idx = t.rfind(\"}\")\n",
    "    if idx != -1:\n",
    "        t = t[idx + 1:]\n",
    "    return t"
   ]
  },
  {
   "cell_type": "code",
   "execution_count": 12,
   "metadata": {},
   "outputs": [],
   "source": [
    "class PageParser(object):\n",
    "    def __init__(self):\n",
    "        self.isPage = False\n",
    "        self.pages = []\n",
    "        self.current_page = {}\n",
    "        \n",
    "    \n",
    "    def handle(self, event, element):\n",
    "        stipped_elem = strip_tag_name(element)\n",
    "        if event == \"start\" and stipped_elem == \"page\":\n",
    "            self.isPage = True\n",
    "        elif event == \"end\" and stipped_elem == \"page\":\n",
    "            self.isPage = False\n",
    "            self.finalize_page()\n",
    "        \n",
    "        if event == \"end\" and self.isPage:\n",
    "            self.parse_page_element(element)\n",
    "            \n",
    "    def finalize_page(self):\n",
    "        self.pages.append(self.current_page)\n",
    "        self.current_page = {}\n",
    "    \n",
    "    def parse_page_element(self, element):\n",
    "        stripped_tag = strip_tag_name(element)\n",
    "        if element.text:\n",
    "            texts = [element.text.strip()] + [child.tail.strip() for child in element if child.tail]\n",
    "            self.current_page[stripped_tag] = \" \".join(texts)\n",
    "        "
   ]
  },
  {
   "cell_type": "code",
   "execution_count": 13,
   "metadata": {},
   "outputs": [],
   "source": [
    "page_parser = PageParser()"
   ]
  },
  {
   "cell_type": "code",
   "execution_count": 14,
   "metadata": {
    "scrolled": false
   },
   "outputs": [
    {
     "data": {
      "application/vnd.jupyter.widget-view+json": {
       "model_id": "9e14523ef09a451f9953ac8daab59f4b",
       "version_major": 2,
       "version_minor": 0
      },
      "text/plain": [
       "HBox(children=(IntProgress(value=1, bar_style='info', max=1), HTML(value='')))"
      ]
     },
     "metadata": {},
     "output_type": "display_data"
    },
    {
     "name": "stdout",
     "output_type": "stream",
     "text": [
      "\n"
     ]
    }
   ],
   "source": [
    "for event, elem in tqdm.tqdm_notebook(etree.iterparse(XML_FILE, events=('start', 'end'))):\n",
    "    page_parser.handle(event, elem)"
   ]
  },
  {
   "cell_type": "code",
   "execution_count": 15,
   "metadata": {
    "scrolled": false
   },
   "outputs": [],
   "source": [
    "df = pd.DataFrame(page_parser.pages)"
   ]
  },
  {
   "cell_type": "code",
   "execution_count": 16,
   "metadata": {},
   "outputs": [],
   "source": [
    "df.to_csv(CSV_OUTPUT)"
   ]
  },
  {
   "cell_type": "code",
   "execution_count": null,
   "metadata": {},
   "outputs": [],
   "source": []
  }
 ],
 "metadata": {
  "kernelspec": {
   "display_name": "Python 3",
   "language": "python",
   "name": "python3"
  },
  "language_info": {
   "codemirror_mode": {
    "name": "ipython",
    "version": 3
   },
   "file_extension": ".py",
   "mimetype": "text/x-python",
   "name": "python",
   "nbconvert_exporter": "python",
   "pygments_lexer": "ipython3",
   "version": "3.7.3"
  }
 },
 "nbformat": 4,
 "nbformat_minor": 2
}
