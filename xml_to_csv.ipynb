{
 "cells": [
  {
   "cell_type": "code",
   "execution_count": 57,
   "metadata": {},
   "outputs": [],
   "source": [
    "import tqdm\n",
    "import pandas as pd\n",
    "from lxml import etree\n",
    "import resource\n",
    "\n",
    "import mwapi\n",
    "import mwtypes\n",
    "import requests"
   ]
  },
  {
   "cell_type": "code",
   "execution_count": 58,
   "metadata": {},
   "outputs": [],
   "source": [
    "XML_FILE = \"xml_data/sample.xml\"\n",
    "CSV_OUTPUT = \"csv_data/sample-output.csv\""
   ]
  },
  {
   "cell_type": "code",
   "execution_count": 59,
   "metadata": {},
   "outputs": [],
   "source": [
    "def strip_tag_name(t):\n",
    "    t = t.tag\n",
    "    idx = t.rfind(\"}\")\n",
    "    if idx != -1:\n",
    "        t = t[idx + 1:]\n",
    "    return t\n",
    "\n",
    "def score2sum(score_doc, weights):\n",
    "    weighted_sum = 0\n",
    "    for cl, proba in score_doc['probability'].items():\n",
    "        weighted_sum += weights[cl] * proba\n",
    "    return weighted_sum\n",
    "\n",
    "def fetch_wp10_score(rev_id):\n",
    "    response = requests.get('https://ores.wikimedia.org/v3/scores/enwiki/{0}/wp10'.format(rev_id))\n",
    "    return response.json()['enwiki']['scores'][str(rev_id)]['wp10']['score']"
   ]
  },
  {
   "cell_type": "code",
   "execution_count": 107,
   "metadata": {},
   "outputs": [],
   "source": [
    "class PageParser(object):\n",
    "    def __init__(self):\n",
    "        self.isPage = False\n",
    "        self.pages = []\n",
    "        self.current_page = {}\n",
    "        self.ores_weights = {'Stub': 1, 'Start': 2, 'C': 3, 'B': 4, 'GA': 5, 'FA': 6}\n",
    "        self.session = mwapi.Session(\"https://en.wikipedia.org\")\n",
    "        self.rvlimit = 100\n",
    "    \n",
    "    def handle(self, event, element):\n",
    "        stipped_elem = strip_tag_name(element)\n",
    "        if event == \"start\" and stipped_elem == \"page\":\n",
    "            self.isPage = True\n",
    "        elif event == \"end\" and stipped_elem == \"page\":\n",
    "            self.isPage = False\n",
    "            self.finalize_page()\n",
    "        \n",
    "        if event == \"end\" and self.isPage:\n",
    "            self.parse_page_element(element)\n",
    "    \n",
    "    def parse_page_element(self, element):\n",
    "        stripped_tag = strip_tag_name(element)\n",
    "        if element.text:\n",
    "            texts = [element.text.strip()] + [child.tail.strip() for child in element if child.tail]\n",
    "            self.current_page[stripped_tag] = \" \".join(texts)\n",
    "\n",
    "    def get_revision(self):\n",
    "        for response_doc in self.session.get(action='query', prop='revisions',\n",
    "                                             titles=self.current_page[\"title\"],\n",
    "                                             rvprop=['ids', 'timestamp'],\n",
    "                                             rvlimit=self.rvlimit, rvdir=\"older\", \n",
    "                                             formatversion=2, continuation=True):\n",
    "            rev_docs = pd.DataFrame(response_doc['query']['pages'][0]['revisions'])\n",
    "            rev = rev_docs[rev_docs.timestamp == self.current_page[\"timestamp\"]]\n",
    "            if len(rev) == 1:\n",
    "                rev_id = rev[\"revid\"].values[0]\n",
    "                return score2sum(fetch_wp10_score(rev_id), self.ores_weights)\n",
    "        return None\n",
    "    \n",
    "    def finalize_page(self):\n",
    "        self.current_page[\"ORES\"] = self.get_revision()\n",
    "        self.pages.append(self.current_page)\n",
    "        self.current_page = {}"
   ]
  },
  {
   "cell_type": "code",
   "execution_count": 108,
   "metadata": {},
   "outputs": [
    {
     "name": "stderr",
     "output_type": "stream",
     "text": [
      "Sending requests with default User-Agent.  Set 'user_agent' on mwapi.Session to quiet this message.\n"
     ]
    }
   ],
   "source": [
    "page_parser = PageParser()"
   ]
  },
  {
   "cell_type": "code",
   "execution_count": null,
   "metadata": {
    "scrolled": false
   },
   "outputs": [
    {
     "data": {
      "application/vnd.jupyter.widget-view+json": {
       "model_id": "1bfc1710e2734226bfa73497b6337c3d",
       "version_major": 2,
       "version_minor": 0
      },
      "text/plain": [
       "HBox(children=(IntProgress(value=1, bar_style='info', max=1), HTML(value='')))"
      ]
     },
     "metadata": {},
     "output_type": "display_data"
    }
   ],
   "source": [
    "for event, elem in tqdm.tqdm_notebook(etree.iterparse(XML_FILE, events=('start', 'end'))):\n",
    "    page_parser.handle(event, elem)"
   ]
  },
  {
   "cell_type": "code",
   "execution_count": 9,
   "metadata": {},
   "outputs": [],
   "source": [
    "df.to_csv(CSV_OUTPUT)"
   ]
  }
 ],
 "metadata": {
  "kernelspec": {
   "display_name": "Python 3",
   "language": "python",
   "name": "python3"
  },
  "language_info": {
   "codemirror_mode": {
    "name": "ipython",
    "version": 3
   },
   "file_extension": ".py",
   "mimetype": "text/x-python",
   "name": "python",
   "nbconvert_exporter": "python",
   "pygments_lexer": "ipython3",
   "version": "3.7.3"
  },
  "toc": {
   "nav_menu": {},
   "number_sections": true,
   "sideBar": true,
   "skip_h1_title": false,
   "toc_cell": false,
   "toc_position": {},
   "toc_section_display": "block",
   "toc_window_display": false
  }
 },
 "nbformat": 4,
 "nbformat_minor": 2
}
